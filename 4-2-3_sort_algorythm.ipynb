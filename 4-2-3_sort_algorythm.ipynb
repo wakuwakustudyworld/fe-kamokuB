{
 "cells": [
  {
   "attachments": {},
   "cell_type": "markdown",
   "metadata": {},
   "source": [
    "## 4-2-3 整列のアルゴリズム\n",
    "整列のアリゴリズムも，代表的な定番アルゴリズムの1つです。  \n",
    "この章のプログラムは，配列の要素番号が0から始まるので，Pythonと同じです。\n",
    "\n",
    "### 整列アルゴリズム\n",
    "関数swap  \n",
    "※要素を入れ替える関数です。Pythonでは，2つの値を入れ替えるだけで，swapはなくても値の入れ替えを行うことができます。"
   ]
  },
  {
   "cell_type": "code",
   "execution_count": 1,
   "metadata": {},
   "outputs": [],
   "source": [
    "def swap(data : list, i : int, j : int):\n",
    "    tmp = data[i]\n",
    "    data[i] = data[j]\n",
    "    data[j] = tmp\n",
    "    return data"
   ]
  },
  {
   "attachments": {},
   "cell_type": "markdown",
   "metadata": {},
   "source": [
    "1. バブルソート \n",
    "\n",
    "【例】バブルソートを行う関数sort"
   ]
  },
  {
   "cell_type": "code",
   "execution_count": 2,
   "metadata": {},
   "outputs": [],
   "source": [
    "def sort(data):\n",
    "    for i in range(len(data)-1, 0, -1):     # 後ろから順に比較していく\n",
    "        for j in range(i):                  # 未整列の部分を比較\n",
    "            if data[j] > data[j+1]:         # 隣り合う要素で前の方が大きい場合\n",
    "                data = swap(data, j, j+1)   # 要素を入れ替える\n",
    "    return data"
   ]
  },
  {
   "attachments": {},
   "cell_type": "markdown",
   "metadata": {},
   "source": [
    "【例】関数sort の実行"
   ]
  },
  {
   "cell_type": "code",
   "execution_count": 3,
   "metadata": {},
   "outputs": [
    {
     "name": "stdout",
     "output_type": "stream",
     "text": [
      "[1, 1, 2, 2, 3, 4, 5]\n"
     ]
    }
   ],
   "source": [
    "data = [1, 3, 2, 5, 4, 2, 1]\n",
    "print(sort(data))"
   ]
  },
  {
   "attachments": {},
   "cell_type": "markdown",
   "metadata": {},
   "source": [
    "2. 挿入ソート\n",
    "   \n",
    "【例】挿入ソートを行う関数sort"
   ]
  },
  {
   "cell_type": "code",
   "execution_count": 4,
   "metadata": {},
   "outputs": [],
   "source": [
    "def sort(data):\n",
    "    for i in range(0, len(data)):            # 最初から順に整列させていく\n",
    "        for j in range(i-1, -1, -1):         # 一番後ろの要素を挿入する場所を探す\n",
    "            if data[j] > data[j+1]:          # 隣り合う要素で前の方が大きい場合\n",
    "                data = swap(data, j, j+1)    # 要素を入れ替える\n",
    "            else:\n",
    "                break                        # 挿入する部分が見つかれば終わり\n",
    "    return data"
   ]
  },
  {
   "cell_type": "code",
   "execution_count": 5,
   "metadata": {},
   "outputs": [
    {
     "name": "stdout",
     "output_type": "stream",
     "text": [
      "[1, 1, 2, 2, 3, 4, 5]\n"
     ]
    }
   ],
   "source": [
    "data = [1, 3, 2, 5, 4, 2, 1]\n",
    "print(sort(data))"
   ]
  },
  {
   "attachments": {},
   "cell_type": "markdown",
   "metadata": {},
   "source": [
    "3. 選択ソート\n",
    "\n",
    "【例】選択ソートを行う関数sort"
   ]
  },
  {
   "cell_type": "code",
   "execution_count": 6,
   "metadata": {},
   "outputs": [],
   "source": [
    "def sort(data):\n",
    "    for i in range(0, len(data)-1):            # 最初から順に選択していく\n",
    "        min_i = i                              # 最小値の位置をmin_iに求める\n",
    "        for j in range(i+1, len(data)):        # 最小値を探すループ\n",
    "            if data[min_i] > data[j]:          # より小さい値があれば，最小値を置き換える\n",
    "                min_i = j\n",
    "        data = swap(data, min_i, i)    # 最小値の場所と要素を入れ替える\n",
    "    return data"
   ]
  },
  {
   "cell_type": "code",
   "execution_count": 7,
   "metadata": {},
   "outputs": [
    {
     "name": "stdout",
     "output_type": "stream",
     "text": [
      "[1, 1, 2, 2, 3, 4, 5]\n"
     ]
    }
   ],
   "source": [
    "data = [1, 3, 2, 5, 4, 2, 1]\n",
    "print(sort(data))"
   ]
  },
  {
   "attachments": {},
   "cell_type": "markdown",
   "metadata": {},
   "source": [
    "4. シェルソート\n",
    "\n",
    "【例】シェルソートを行う関数sort"
   ]
  },
  {
   "cell_type": "code",
   "execution_count": 8,
   "metadata": {},
   "outputs": [],
   "source": [
    "def sort(data):\n",
    "    gaps = [7, 3, 1]                                # 間隔をあらかじめ設定\n",
    "    for gap in gaps:                                # gapを段々狭めて繰り返す\n",
    "        for start in range(gap):                    # gap分離れた複数の組を順番にソート\n",
    "            for i in range(start, len(data), gap):  # gapの幅で飛ばしながら挿入ソート\n",
    "                for j in range(i-gap, -1, -gap):    # 終値を-1に設定（0まで実行）\n",
    "                    if data[j] > data[j+gap]:       # gap分離れた要素で前の方が大きい場合\n",
    "                        data = swap(data, j, j+gap) # 要素を入れ替える\n",
    "                    else:\n",
    "                        break                       # 最も内側のfor文を終了\n",
    "    return data"
   ]
  },
  {
   "cell_type": "code",
   "execution_count": 9,
   "metadata": {},
   "outputs": [
    {
     "name": "stdout",
     "output_type": "stream",
     "text": [
      "[1, 1, 2, 2, 3, 4, 5]\n"
     ]
    }
   ],
   "source": [
    "data = [1, 3, 2, 5, 4, 2, 1]\n",
    "print(sort(data))"
   ]
  },
  {
   "attachments": {},
   "cell_type": "markdown",
   "metadata": {},
   "source": [
    "5. ヒープソート\n",
    "\n",
    "【例】親の要素番号と子の要素番号の対応付け"
   ]
  },
  {
   "cell_type": "code",
   "execution_count": 10,
   "metadata": {},
   "outputs": [],
   "source": [
    "def lchild(i : int):  #　左側の子の要素番号\n",
    "    return 2 * i + 1\n",
    "def rchild(i : int):  #　右側の子の要素番号\n",
    "    return 2 * i + 2\n",
    "def parent(i : int):  #　親の要素番号\n",
    "    return (i-1) // 2"
   ]
  },
  {
   "attachments": {},
   "cell_type": "markdown",
   "metadata": {},
   "source": [
    "【例】ヒープを作成する関数makeHeap"
   ]
  },
  {
   "cell_type": "code",
   "execution_count": 11,
   "metadata": {},
   "outputs": [],
   "source": [
    "def makeHeap(data):\n",
    "    heap = [0] * len(data)  # ヒープを格納する配列\n",
    "    for i in range(len(data)):\n",
    "        heap[i] = data[i]\n",
    "        k = i\n",
    "        while k > 0:\n",
    "            if heap[k] > heap[parent(k)]:\n",
    "                heap = swap(heap, k, parent(k))\n",
    "                k = parent(k)\n",
    "            else:\n",
    "                break # 内側のwhile文を終了\n",
    "    return heap"
   ]
  },
  {
   "attachments": {},
   "cell_type": "markdown",
   "metadata": {},
   "source": [
    "【例】ヒープソートを行う関数sort"
   ]
  },
  {
   "cell_type": "code",
   "execution_count": 12,
   "metadata": {},
   "outputs": [],
   "source": [
    "def sort(data):\n",
    "    data = makeHeap(data)\n",
    "    for last in range(len(data)-1, 0, -1):\n",
    "        data = swap(data, 0, last)\n",
    "        n = 0\n",
    "        hlast = last-1\n",
    "        while(lchild(n) <= hlast):\n",
    "            tmp = lchild(n)\n",
    "            if (rchild(n) <= hlast):\n",
    "                if (data[tmp] <= data[rchild(n)]):\n",
    "                    tmp = rchild(n)\n",
    "            if (data[tmp] > data[n]):\n",
    "                data = swap(data, n, tmp)\n",
    "            else:\n",
    "                break # 内側のwhile文を終了\n",
    "            n = tmp\n",
    "    return data"
   ]
  },
  {
   "cell_type": "code",
   "execution_count": 13,
   "metadata": {},
   "outputs": [
    {
     "name": "stdout",
     "output_type": "stream",
     "text": [
      "[1, 1, 2, 2, 3, 4, 5]\n"
     ]
    }
   ],
   "source": [
    "data = [1, 3, 2, 5, 4, 2, 1]\n",
    "print(sort(data))"
   ]
  },
  {
   "cell_type": "code",
   "execution_count": null,
   "metadata": {},
   "outputs": [],
   "source": []
  }
 ],
 "metadata": {
  "kernelspec": {
   "display_name": "Python 3",
   "language": "python",
   "name": "python3"
  },
  "language_info": {
   "codemirror_mode": {
    "name": "ipython",
    "version": 3
   },
   "file_extension": ".py",
   "mimetype": "text/x-python",
   "name": "python",
   "nbconvert_exporter": "python",
   "pygments_lexer": "ipython3",
   "version": "3.11.3"
  },
  "orig_nbformat": 4
 },
 "nbformat": 4,
 "nbformat_minor": 2
}
