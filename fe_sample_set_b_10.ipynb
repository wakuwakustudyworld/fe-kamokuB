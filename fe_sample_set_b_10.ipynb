{
 "cells": [
  {
   "attachments": {},
   "cell_type": "markdown",
   "metadata": {},
   "source": [
    "## 基本情報技術者試験（科目B試験）サンプル問題セット\n",
    "### 問10\n",
    "次の記述中の 【　　　】 に入れる正しい答えを，解答群の中から選べ。\n",
    "\n",
    "手続delNodeは，単方向リストから，引数posで指定された位置の要素を削除する手続である。引数posは，リストの要素数以下の正の整数とする。リストの先頭の位置を1とする。  \n",
    "　クラスListElementは，単方向リストの要素を表す。クラスListElementのメンバ変数の説明を表に示す。ListElement型の変数はクラスListElementのインスタンスの参照を格納するものとする。大域変数listHeadには，リストの先頭要素の参照があらかじめ格納されている。\n",
    "\n",
    "表　クラスListElementのメンバ変数の説明\n",
    "|メンバ変数|型|説明|\n",
    "|---|---|---|\n",
    "|val|文字型|要素の値|\n",
    "|next|ListElement|次の要素の参照。次の要素がないときの状態は未定義|\n",
    "\n",
    "クラスListElementの定義"
   ]
  },
  {
   "cell_type": "code",
   "execution_count": 1,
   "metadata": {},
   "outputs": [],
   "source": [
    "class ListElement:\n",
    "    def __init__(self, qVal):\n",
    "        self.val = qVal\n",
    "        self.next = None"
   ]
  },
  {
   "attachments": {},
   "cell_type": "markdown",
   "metadata": {},
   "source": [
    "ListElementの例  \n",
    "あ -> い -> う　の順のリストを作成"
   ]
  },
  {
   "cell_type": "code",
   "execution_count": 2,
   "metadata": {},
   "outputs": [
    {
     "name": "stdout",
     "output_type": "stream",
     "text": [
      "あ, い, う, "
     ]
    }
   ],
   "source": [
    "ListHead = ListElement(\"あ\")\n",
    "ListHead.next = ListElement(\"い\")\n",
    "ListHead.next.next = ListElement(\"う\")\n",
    "\n",
    "# 内容の表示\n",
    "curr = ListHead\n",
    "while curr != None:\n",
    "    print(curr.val, end=\", \")\n",
    "    curr = curr.next"
   ]
  },
  {
   "attachments": {},
   "cell_type": "markdown",
   "metadata": {},
   "source": [
    "〔プログラム〕"
   ]
  },
  {
   "cell_type": "code",
   "execution_count": 3,
   "metadata": {},
   "outputs": [],
   "source": [
    "def delNode(pos : int): # posは，リストの要素数以下の正の整数\n",
    "    global ListHead # グローバル変数の参照\n",
    "    if pos == 1:\n",
    "        ListHead = ListHead.next\n",
    "    else:\n",
    "        prev = ListHead\n",
    "        # posが2と等しいときは繰返し処理を実行しない\n",
    "        for i in range(2, pos):\n",
    "            prev = prev.next\n",
    "        prev.next = prev.next.next # 右辺が空欄"
   ]
  },
  {
   "attachments": {},
   "cell_type": "markdown",
   "metadata": {},
   "source": [
    "テスト"
   ]
  },
  {
   "cell_type": "code",
   "execution_count": 4,
   "metadata": {},
   "outputs": [
    {
     "name": "stdout",
     "output_type": "stream",
     "text": [
      "あ, う, "
     ]
    }
   ],
   "source": [
    "delNode(2)\n",
    "\n",
    "# 内容の表示\n",
    "curr = ListHead\n",
    "while curr != None:\n",
    "    print(curr.val, end=\", \")\n",
    "    curr = curr.next"
   ]
  },
  {
   "cell_type": "code",
   "execution_count": null,
   "metadata": {},
   "outputs": [],
   "source": []
  }
 ],
 "metadata": {
  "kernelspec": {
   "display_name": "Python 3",
   "language": "python",
   "name": "python3"
  },
  "language_info": {
   "codemirror_mode": {
    "name": "ipython",
    "version": 3
   },
   "file_extension": ".py",
   "mimetype": "text/x-python",
   "name": "python",
   "nbconvert_exporter": "python",
   "pygments_lexer": "ipython3",
   "version": "3.11.3"
  },
  "orig_nbformat": 4
 },
 "nbformat": 4,
 "nbformat_minor": 2
}
