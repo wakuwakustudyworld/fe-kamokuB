{
 "cells": [
  {
   "attachments": {},
   "cell_type": "markdown",
   "metadata": {},
   "source": [
    "## 3-3-3 演習問題\n",
    "### 問2 分岐網羅と条件網羅を満たすテストデータ\n",
    "〔プログラム〕  \n",
    "関数testとして，途中で網羅条件を出力"
   ]
  },
  {
   "cell_type": "code",
   "execution_count": 1,
   "metadata": {},
   "outputs": [],
   "source": [
    "def test(x : int, y : int):\n",
    "    a = 0\n",
    "    b = 0\n",
    "    # 条件網羅チェック1\n",
    "    if x >= 1:\n",
    "        print('条件 x >= 1', True)\n",
    "    else:\n",
    "        print('条件 x >= 1', False)\n",
    "    # 条件網羅チェック2\n",
    "    if y == 1:\n",
    "        print('条件 y == 1', True)\n",
    "    else:\n",
    "        print('条件 y == 1', False)\n",
    "    \n",
    "    if x >= 1 or y == 1:\n",
    "        print('分岐 x >= 1 or y == 1', True) # 分岐網羅チェック\n",
    "        a = 1\n",
    "    else:\n",
    "        print('分岐 x >= 1 or y == 1', False)\n",
    "    \n",
    "    if y > 1:\n",
    "        print('分岐 y > 1', True)  # 分岐網羅チェック\n",
    "        print('条件 y > 1', True)\n",
    "        b = 1\n",
    "    else:\n",
    "        print('分岐 y > 1', False)\n",
    "        print('条件 y > 1', False)"
   ]
  },
  {
   "cell_type": "code",
   "execution_count": 2,
   "metadata": {},
   "outputs": [
    {
     "name": "stdout",
     "output_type": "stream",
     "text": [
      "条件 x >= 1 True\n",
      "条件 y == 1 False\n",
      "分岐 x >= 1 or y == 1 True\n",
      "分岐 y > 1 True\n",
      "条件 y > 1 True\n",
      "条件 x >= 1 True\n",
      "条件 y == 1 False\n",
      "分岐 x >= 1 or y == 1 True\n",
      "分岐 y > 1 True\n",
      "条件 y > 1 True\n"
     ]
    }
   ],
   "source": [
    "# テストケース　ア\n",
    "test(2, 2)\n",
    "test(1, 2)"
   ]
  },
  {
   "cell_type": "code",
   "execution_count": 3,
   "metadata": {},
   "outputs": [
    {
     "name": "stdout",
     "output_type": "stream",
     "text": [
      "条件 x >= 1 True\n",
      "条件 y == 1 False\n",
      "分岐 x >= 1 or y == 1 True\n",
      "分岐 y > 1 True\n",
      "条件 y > 1 True\n",
      "条件 x >= 1 False\n",
      "条件 y == 1 False\n",
      "分岐 x >= 1 or y == 1 False\n",
      "分岐 y > 1 False\n",
      "条件 y > 1 False\n"
     ]
    }
   ],
   "source": [
    "# テストケース　イ\n",
    "test(1, 2)\n",
    "test(0, 0)"
   ]
  },
  {
   "cell_type": "code",
   "execution_count": 4,
   "metadata": {},
   "outputs": [
    {
     "name": "stdout",
     "output_type": "stream",
     "text": [
      "条件 x >= 1 True\n",
      "条件 y == 1 False\n",
      "分岐 x >= 1 or y == 1 True\n",
      "分岐 y > 1 True\n",
      "条件 y > 1 True\n",
      "条件 x >= 1 True\n",
      "条件 y == 1 True\n",
      "分岐 x >= 1 or y == 1 True\n",
      "分岐 y > 1 False\n",
      "条件 y > 1 False\n",
      "条件 x >= 1 False\n",
      "条件 y == 1 True\n",
      "分岐 x >= 1 or y == 1 True\n",
      "分岐 y > 1 False\n",
      "条件 y > 1 False\n"
     ]
    }
   ],
   "source": [
    "# テストケース　ウ\n",
    "test(1, 2)\n",
    "test(1, 1)\n",
    "test(0, 1)"
   ]
  },
  {
   "cell_type": "code",
   "execution_count": 5,
   "metadata": {},
   "outputs": [
    {
     "name": "stdout",
     "output_type": "stream",
     "text": [
      "条件 x >= 1 True\n",
      "条件 y == 1 False\n",
      "分岐 x >= 1 or y == 1 True\n",
      "分岐 y > 1 True\n",
      "条件 y > 1 True\n",
      "条件 x >= 1 False\n",
      "条件 y == 1 True\n",
      "分岐 x >= 1 or y == 1 True\n",
      "分岐 y > 1 False\n",
      "条件 y > 1 False\n",
      "条件 x >= 1 False\n",
      "条件 y == 1 False\n",
      "分岐 x >= 1 or y == 1 False\n",
      "分岐 y > 1 True\n",
      "条件 y > 1 True\n"
     ]
    }
   ],
   "source": [
    "# テストケース　エ\n",
    "test(1, 2)\n",
    "test(0, 1)\n",
    "test(0, 2)"
   ]
  },
  {
   "cell_type": "code",
   "execution_count": null,
   "metadata": {},
   "outputs": [],
   "source": []
  }
 ],
 "metadata": {
  "kernelspec": {
   "display_name": "Python 3",
   "language": "python",
   "name": "python3"
  },
  "language_info": {
   "codemirror_mode": {
    "name": "ipython",
    "version": 3
   },
   "file_extension": ".py",
   "mimetype": "text/x-python",
   "name": "python",
   "nbconvert_exporter": "python",
   "pygments_lexer": "ipython3",
   "version": "3.11.3"
  },
  "orig_nbformat": 4
 },
 "nbformat": 4,
 "nbformat_minor": 2
}
