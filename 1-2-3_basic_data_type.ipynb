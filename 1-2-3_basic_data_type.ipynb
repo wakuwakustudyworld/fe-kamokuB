{
 "cells": [
  {
   "attachments": {},
   "cell_type": "markdown",
   "metadata": {},
   "source": [
    "## 1-2-3 基本データ型\n",
    "データ型とは，プログラムが扱う値を分類したものです。基本データ型には，整数型や実数型，論理型，ビット型，文字型と，複数の値をまとめた文字列型や配列があります。\n",
    "\n",
    "### 基本データ型\n",
    "Pythonでは，データ型の宣言は不要です。しかし，型ヒントとして，宣言して明記しておくことも可能です。\n",
    "Pythonでの型宣言は，<変数名>: <組み込み型>で表します。  \n",
    "<組み込み型> には，整数型(int)，実数型(float)，論理型(bool)，文字列型(str)などがあります。\n",
    "\n",
    "※ 型ヒントを使用する場合には，初期値の設定が必要なので，書籍とは異なり，初期値に0を設定しています。  \n",
    "※ 1文字だけを示す文字型はないので，1文字でも文字列型を使用します。"
   ]
  },
  {
   "cell_type": "code",
   "execution_count": 1,
   "metadata": {},
   "outputs": [],
   "source": [
    "a : int = 0 # 整数型: a\n",
    "b : int = 0 # 整数型: b\n",
    "c : float = 1.2 # 実数型: c\n",
    "d : bool = True # 論理型: d\n",
    "e : str = \"A\" # 文字型: e\n",
    "f : str = \"BC\" # 文字列型: f"
   ]
  },
  {
   "attachments": {},
   "cell_type": "markdown",
   "metadata": {},
   "source": [
    "擬似言語の8ビット型は，2進数での表現(0b)となります。  \n",
    "上の桁の0は省略されるので，表示する場合には明示的に，formatを指定して，桁数を指定する必要があります。"
   ]
  },
  {
   "cell_type": "code",
   "execution_count": 2,
   "metadata": {},
   "outputs": [
    {
     "name": "stdout",
     "output_type": "stream",
     "text": [
      "00000000\n"
     ]
    }
   ],
   "source": [
    "a : int = 0b00000000\n",
    "print(format(a, '08b'))"
   ]
  },
  {
   "attachments": {},
   "cell_type": "markdown",
   "metadata": {},
   "source": [
    "### 配列\n",
    "Pythonでの配列はリストで表現し，要素番号が必ず0で始まります。  \n",
    "そのため，擬似言語で要素番号が1で始まる配列を利用する場合には，工夫が必要です。"
   ]
  },
  {
   "cell_type": "code",
   "execution_count": 3,
   "metadata": {},
   "outputs": [],
   "source": [
    "array = [3, 2, 1, 6, 5, 4]"
   ]
  },
  {
   "cell_type": "code",
   "execution_count": null,
   "metadata": {},
   "outputs": [],
   "source": []
  }
 ],
 "metadata": {
  "kernelspec": {
   "display_name": "Python 3",
   "language": "python",
   "name": "python3"
  },
  "language_info": {
   "codemirror_mode": {
    "name": "ipython",
    "version": 3
   },
   "file_extension": ".py",
   "mimetype": "text/x-python",
   "name": "python",
   "nbconvert_exporter": "python",
   "pygments_lexer": "ipython3",
   "version": "3.11.3"
  },
  "orig_nbformat": 4
 },
 "nbformat": 4,
 "nbformat_minor": 2
}
