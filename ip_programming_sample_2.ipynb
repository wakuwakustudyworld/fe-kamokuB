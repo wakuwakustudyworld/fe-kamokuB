{
 "cells": [
  {
   "attachments": {},
   "cell_type": "markdown",
   "metadata": {},
   "source": [
    "## ITパスポート試験　擬似言語のサンプル問題\n",
    "### 問2\n",
    "手続printStarsは，“☆”と“★”を交互に，引数numで指定された数だけ出力する。プログラム中のa，bに入れる字句の適切な組合せはどれか。ここで，引数numの\n",
    "値が0以下のときは，何も出力しない。\n",
    "\n",
    "〔プログラム〕  \n",
    "※Pythonでは，endwhileは使用しないので，空欄aのみ"
   ]
  },
  {
   "cell_type": "code",
   "execution_count": 3,
   "metadata": {},
   "outputs": [],
   "source": [
    "def printStars(num : int):  # 手続の宣言\n",
    "    cnt : int = 0           # 出力した数を初期化する\n",
    "    starColor : str = \"SC1\" # 最初は“☆ ”を出力させる\n",
    "    while (cnt < num):      # この1行が，空欄a\n",
    "        if  starColor == \"SC1\":\n",
    "            print(\"☆\")\n",
    "            starColor = \"SC2\"\n",
    "        else:\n",
    "            print(\"★\")\n",
    "            starColor = \"SC1\"\n",
    "        cnt = cnt + 1"
   ]
  },
  {
   "attachments": {},
   "cell_type": "markdown",
   "metadata": {},
   "source": [
    "テスト"
   ]
  },
  {
   "cell_type": "code",
   "execution_count": 5,
   "metadata": {},
   "outputs": [
    {
     "name": "stdout",
     "output_type": "stream",
     "text": [
      "☆\n",
      "★\n",
      "☆\n",
      "★\n",
      "☆\n"
     ]
    }
   ],
   "source": [
    "printStars(5)               # 5回表示"
   ]
  },
  {
   "cell_type": "code",
   "execution_count": 6,
   "metadata": {},
   "outputs": [],
   "source": [
    "printStars(0)               # 表示しない"
   ]
  },
  {
   "cell_type": "code",
   "execution_count": null,
   "metadata": {},
   "outputs": [],
   "source": []
  }
 ],
 "metadata": {
  "kernelspec": {
   "display_name": "Python 3",
   "language": "python",
   "name": "python3"
  },
  "language_info": {
   "codemirror_mode": {
    "name": "ipython",
    "version": 3
   },
   "file_extension": ".py",
   "mimetype": "text/x-python",
   "name": "python",
   "nbconvert_exporter": "python",
   "pygments_lexer": "ipython3",
   "version": "3.11.4"
  },
  "orig_nbformat": 4
 },
 "nbformat": 4,
 "nbformat_minor": 2
}
