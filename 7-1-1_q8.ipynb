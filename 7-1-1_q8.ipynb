{
 "cells": [
  {
   "attachments": {},
   "cell_type": "markdown",
   "metadata": {},
   "source": [
    "## 7-1-1　予想問題\n",
    "### 問8\n",
    "　次の記述中の【　 　】に入れる正しい答えを，解答群の中から選べ。ここで，配列の要素番号は1から始まる。\n",
    "\n",
    "　手続procは，2分木の各ノードがもつ記号を出力する再帰的な手続である。クラスNodeは，2分木の各ノードの要素を表す。クラスNodeの説明を図に示す。  \n",
    "　大域の配列treeが，図の2分木を表している。このプログラムをproc(tree[1])として呼び出したときの出力は【　 　】の順となる。\n",
    "\n",
    "図は省略\n",
    "\n",
    "表　クラスNodeの説明\n",
    "|コンストラクタ|説明|\n",
    "|---|---|\n",
    "|Node(文字型: s)|文字sを要素の値とするノードを生成する。初期状態では，左右の子は未定義である。|\n",
    "\n",
    "|メソッド|戻り値|説明|\n",
    "|---|---|---|\n",
    "|setleft(Node型: node)|なし|nodeを左の子に設定する。|\n",
    "|setright(Node型: node)|なし|nodeを右の子に設定する。|\n",
    "\n",
    "|メンバ変数|型|説明|\n",
    "|---|---|---|\n",
    "|val|文字型|要素の値|\n",
    "|left|Node|左の子の参照。左の子がないときの状態は未定義|\n",
    "|right|Node|右の子の参照。右の子がないときの状態は未定義|\n",
    "\n",
    "\n",
    "クラス定義\n"
   ]
  },
  {
   "cell_type": "code",
   "execution_count": 1,
   "metadata": {},
   "outputs": [],
   "source": [
    "class Node:\n",
    "    def __init__(self, s):\n",
    "        self.val = s\n",
    "        self.left = None\n",
    "        self.right = None\n",
    "    def setleft(self, node):\n",
    "        self.left = node\n",
    "    def setright(self, node):\n",
    "        self.right = node"
   ]
  },
  {
   "attachments": {},
   "cell_type": "markdown",
   "metadata": {},
   "source": [
    "〔プログラム〕  \n",
    "Pythonでは，配列（リスト）の要素番号は1から始まるので，tree[0]にNoneを追加"
   ]
  },
  {
   "cell_type": "code",
   "execution_count": 2,
   "metadata": {},
   "outputs": [],
   "source": [
    "tree = [None, Node(\"+\"), Node(\"a\"),\n",
    "        Node(\"*\"), Node(\"-\"), Node(\"d\"),\n",
    "        Node(\"b\"), Node(\"c\")]\n",
    "tree[1].setleft(tree[2])\n",
    "tree[1].setright(tree[3])\n",
    "tree[3].setleft(tree[4])\n",
    "tree[3].setright(tree[5])\n",
    "tree[4].setleft(tree[6])\n",
    "tree[4].setright(tree[7])"
   ]
  },
  {
   "cell_type": "code",
   "execution_count": 3,
   "metadata": {},
   "outputs": [],
   "source": [
    "def proc(n : Node):\n",
    "    if n.left is not None:\n",
    "        proc(n.left)\n",
    "    if n.right is not None:\n",
    "        proc(n.right)\n",
    "    print(n.val, end=\"\")"
   ]
  },
  {
   "attachments": {},
   "cell_type": "markdown",
   "metadata": {},
   "source": [
    "実行"
   ]
  },
  {
   "cell_type": "code",
   "execution_count": 4,
   "metadata": {},
   "outputs": [
    {
     "name": "stdout",
     "output_type": "stream",
     "text": [
      "abc-d*+"
     ]
    }
   ],
   "source": [
    "proc(tree[1])"
   ]
  },
  {
   "cell_type": "code",
   "execution_count": null,
   "metadata": {},
   "outputs": [],
   "source": []
  }
 ],
 "metadata": {
  "kernelspec": {
   "display_name": "Python 3",
   "language": "python",
   "name": "python3"
  },
  "language_info": {
   "codemirror_mode": {
    "name": "ipython",
    "version": 3
   },
   "file_extension": ".py",
   "mimetype": "text/x-python",
   "name": "python",
   "nbconvert_exporter": "python",
   "pygments_lexer": "ipython3",
   "version": "3.11.3"
  },
  "orig_nbformat": 4
 },
 "nbformat": 4,
 "nbformat_minor": 2
}
