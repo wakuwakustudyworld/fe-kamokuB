{
 "cells": [
  {
   "attachments": {},
   "cell_type": "markdown",
   "metadata": {},
   "source": [
    "## 2-2-2 クラスとインスタンス\n",
    "クラスは，インスタンスを生成して使用します。Pythonでは，クラス定義はclass文で行います。\n",
    "\n",
    "### クラスとインスタンス\n",
    "●クラスDogの説明，にある，クラスをPythonで作成"
   ]
  },
  {
   "cell_type": "code",
   "execution_count": 1,
   "metadata": {},
   "outputs": [],
   "source": [
    "class Dog:\n",
    "    def __init__(self, qName):\n",
    "        self.name = qName\n",
    "    def cry(self):\n",
    "        return(\"ワン\")"
   ]
  },
  {
   "attachments": {},
   "cell_type": "markdown",
   "metadata": {},
   "source": [
    "【例】クラスDogの利用"
   ]
  },
  {
   "cell_type": "code",
   "execution_count": 2,
   "metadata": {},
   "outputs": [
    {
     "name": "stdout",
     "output_type": "stream",
     "text": [
      "ワン\n",
      "ワン\n"
     ]
    }
   ],
   "source": [
    "shiro = Dog(\"シロ\")\n",
    "chobi = Dog(\"チョビ\")\n",
    "print(shiro.cry())\n",
    "print(chobi.cry())"
   ]
  },
  {
   "attachments": {},
   "cell_type": "markdown",
   "metadata": {},
   "source": [
    "●クラスOwnerの説明，にある，クラスをPythonで作成"
   ]
  },
  {
   "cell_type": "code",
   "execution_count": 3,
   "metadata": {},
   "outputs": [],
   "source": [
    "class Owner:\n",
    "    def __init__(self, qName, qDog):\n",
    "        self.name = qName\n",
    "        self.dog = qDog\n",
    "    def explain(self):\n",
    "        return(\"私は\" + self.name + \"です。この犬は\" + self.dog.name + \"という名前です。\")"
   ]
  },
  {
   "attachments": {},
   "cell_type": "markdown",
   "metadata": {},
   "source": [
    "【例】クラスOnwerとクラスDogのインスタンスを紐付け"
   ]
  },
  {
   "cell_type": "code",
   "execution_count": 4,
   "metadata": {},
   "outputs": [
    {
     "name": "stdout",
     "output_type": "stream",
     "text": [
      "私はしんのすけです。この犬はシロという名前です。\n",
      "私は公輝です。この犬はチョビという名前です。\n"
     ]
    }
   ],
   "source": [
    "shinnosuke = Owner(\"しんのすけ\", shiro)\n",
    "masaki = Owner(\"公輝\", chobi)\n",
    "print(shinnosuke.explain())\n",
    "print(masaki.explain())"
   ]
  },
  {
   "cell_type": "code",
   "execution_count": null,
   "metadata": {},
   "outputs": [],
   "source": []
  }
 ],
 "metadata": {
  "kernelspec": {
   "display_name": "Python 3",
   "language": "python",
   "name": "python3"
  },
  "language_info": {
   "codemirror_mode": {
    "name": "ipython",
    "version": 3
   },
   "file_extension": ".py",
   "mimetype": "text/x-python",
   "name": "python",
   "nbconvert_exporter": "python",
   "pygments_lexer": "ipython3",
   "version": "3.11.3"
  },
  "orig_nbformat": 4
 },
 "nbformat": 4,
 "nbformat_minor": 2
}
