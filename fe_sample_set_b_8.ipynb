{
 "cells": [
  {
   "attachments": {},
   "cell_type": "markdown",
   "metadata": {},
   "source": [
    "## 基本情報技術者試験（科目B試験）サンプル問題セット\n",
    "### 問5\n",
    "　次の記述中の 【　　　】 に入れる正しい答えを，解答群の中から選べ。\n",
    "\n",
    "　優先度付きキューを操作するプログラムである。優先度付きキューとは扱う要素に優先度を付けたキューであり，要素を取り出す際には優先度の高いものから順番に取り出される。クラスPrioQueueは優先度付きキューを表すクラスである。クラスPrioQueueの説明を図に示す。ここで，優先度は整数型の値1，2，3 のいずれかであり，小さい値ほど優先度が高いものとする。\n",
    "　手続prioSchedを呼び出したとき，出力は 【　　　】 の順となる。\n",
    "\n",
    "図　クラス PrioQueue の説明をPythonで実装"
   ]
  },
  {
   "cell_type": "code",
   "execution_count": 1,
   "metadata": {},
   "outputs": [],
   "source": [
    "class PrioQueue:\n",
    "    def __init__(self):\n",
    "        self.prioQueue = {1: [], 2: [], 3: []}\n",
    "    def enqueue(self, s : str, prio : int):\n",
    "        self.prioQueue[prio].append(s)\n",
    "    def dequeue(self):\n",
    "        for i in range(1, 4):\n",
    "            if self.prioQueue[i]:\n",
    "                return self.prioQueue[i].pop(0)\n",
    "    def size(self):\n",
    "        return sum([len(self.prioQueue[i]) for i in range(1, 4)])"
   ]
  },
  {
   "attachments": {},
   "cell_type": "markdown",
   "metadata": {},
   "source": [
    "〔プログラム〕"
   ]
  },
  {
   "cell_type": "code",
   "execution_count": 2,
   "metadata": {},
   "outputs": [],
   "source": [
    "def prioSched():\n",
    "    prioQueue = PrioQueue()\n",
    "    prioQueue.enqueue(\"A\", 1)\n",
    "    prioQueue.enqueue(\"B\", 2)\n",
    "    prioQueue.enqueue(\"C\", 2)\n",
    "    prioQueue.enqueue(\"D\", 3)\n",
    "    prioQueue.dequeue()       # 戻り値は使用しない\n",
    "    prioQueue.dequeue()       # 戻り値は使用しない\n",
    "    prioQueue.enqueue(\"D\", 3)\n",
    "    prioQueue.enqueue(\"B\", 2)\n",
    "    prioQueue.dequeue()       # 戻り値は使用しない\n",
    "    prioQueue.dequeue()       # 戻り値は使用しない\n",
    "    prioQueue.enqueue(\"C\", 2)\n",
    "    prioQueue.enqueue(\"A\", 1)\n",
    "    while (prioQueue.size() != 0):\n",
    "        print(prioQueue.dequeue())"
   ]
  },
  {
   "cell_type": "code",
   "execution_count": 3,
   "metadata": {},
   "outputs": [
    {
     "name": "stdout",
     "output_type": "stream",
     "text": [
      "A\n",
      "C\n",
      "D\n",
      "D\n"
     ]
    }
   ],
   "source": [
    "prioSched()"
   ]
  },
  {
   "cell_type": "code",
   "execution_count": null,
   "metadata": {},
   "outputs": [],
   "source": []
  }
 ],
 "metadata": {
  "kernelspec": {
   "display_name": "Python 3",
   "language": "python",
   "name": "python3"
  },
  "language_info": {
   "codemirror_mode": {
    "name": "ipython",
    "version": 3
   },
   "file_extension": ".py",
   "mimetype": "text/x-python",
   "name": "python",
   "nbconvert_exporter": "python",
   "pygments_lexer": "ipython3",
   "version": "3.11.3"
  },
  "orig_nbformat": 4
 },
 "nbformat": 4,
 "nbformat_minor": 2
}
