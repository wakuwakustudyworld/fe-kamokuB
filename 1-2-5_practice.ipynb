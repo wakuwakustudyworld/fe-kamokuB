{
 "cells": [
  {
   "attachments": {},
   "cell_type": "markdown",
   "metadata": {},
   "source": [
    "## 1-2-5 演習問題\n",
    "\n",
    "### 問1　代入される値"
   ]
  },
  {
   "cell_type": "code",
   "execution_count": 1,
   "metadata": {},
   "outputs": [
    {
     "name": "stdout",
     "output_type": "stream",
     "text": [
      "5.5\n"
     ]
    }
   ],
   "source": [
    "c: float = 3 + 5 / 2\n",
    "print(c)"
   ]
  },
  {
   "attachments": {},
   "cell_type": "markdown",
   "metadata": {},
   "source": [
    "### 問2　配列に格納されている値\n",
    "Pythonでは，配列の要素番号が0から始まるので，array[3]に格納されている値を求めます。"
   ]
  },
  {
   "cell_type": "code",
   "execution_count": 2,
   "metadata": {},
   "outputs": [
    {
     "name": "stdout",
     "output_type": "stream",
     "text": [
      "3\n"
     ]
    }
   ],
   "source": [
    "array = [0, 1, 2, 3, 4]\n",
    "print(array[3])"
   ]
  },
  {
   "attachments": {},
   "cell_type": "markdown",
   "metadata": {},
   "source": [
    "### 問3　ビット演算\n",
    "それぞれの選択肢の実行結果を確認します。"
   ]
  },
  {
   "cell_type": "code",
   "execution_count": 3,
   "metadata": {},
   "outputs": [
    {
     "name": "stdout",
     "output_type": "stream",
     "text": [
      "ア 10101010\n",
      "イ 10101010\n",
      "ウ 01010101\n",
      "エ 11111111\n"
     ]
    }
   ],
   "source": [
    "x = 0b10101010 # 2進表記のxの例\n",
    "print('ア', format(x ^ 0x00, '08b'))  # 16進表記00のビット列と排他的論理和をとる。\n",
    "print('イ', format(x | 0x00, '08b'))  # 16進表記00のビット列と論理和をとる。\n",
    "print('ウ', format(x ^ 0xFF, '08b'))  # 16進表記FFのビット列と排他的論理和をとる。\n",
    "print('エ', format(x | 0xFF, '08b'))  # 16進表記FFのビット列と論理和をとる。"
   ]
  },
  {
   "cell_type": "code",
   "execution_count": null,
   "metadata": {},
   "outputs": [],
   "source": []
  }
 ],
 "metadata": {
  "kernelspec": {
   "display_name": "Python 3",
   "language": "python",
   "name": "python3"
  },
  "language_info": {
   "codemirror_mode": {
    "name": "ipython",
    "version": 3
   },
   "file_extension": ".py",
   "mimetype": "text/x-python",
   "name": "python",
   "nbconvert_exporter": "python",
   "pygments_lexer": "ipython3",
   "version": "3.11.3"
  },
  "orig_nbformat": 4
 },
 "nbformat": 4,
 "nbformat_minor": 2
}
