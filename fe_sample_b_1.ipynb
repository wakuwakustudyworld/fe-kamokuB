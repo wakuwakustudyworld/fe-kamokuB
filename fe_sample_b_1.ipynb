{
 "cells": [
  {
   "attachments": {},
   "cell_type": "markdown",
   "metadata": {},
   "source": [
    "## 基本情報技術者試験（科目B試験）サンプル問題\n",
    "### 問1\n",
    "次のプログラム中の 【　　　】 に入れる正しい答えを，解答群の中から選べ。\n",
    "\n",
    "ある施設の入場料は，0歳から3歳までは100円，4歳から9歳までは300円，10歳以上は500円である。関数feeは，年齢を表す0以上の整数を引数として受け取り，入場料を返す。\n",
    "\n",
    "〔プログラム〕"
   ]
  },
  {
   "cell_type": "code",
   "execution_count": 1,
   "metadata": {},
   "outputs": [],
   "source": [
    "def fee(age : int) -> int:\n",
    "    if ( age <= 3 ):\n",
    "        ret = 100\n",
    "    elif ( age <= 9 ): # elif文の条件式が 【　　　】\n",
    "        ret = 300\n",
    "    else:\n",
    "        ret = 500\n",
    "    return ret"
   ]
  },
  {
   "attachments": {},
   "cell_type": "markdown",
   "metadata": {},
   "source": [
    "選択肢の条件を，Python文法で直したもの（正解はカ）\n",
    "\n",
    "ア　(age >= 4) and (age < 9)  \n",
    "イ　(age == 4) or (age == 9)  \n",
    "ウ　(age > 4) and (age <= 9)  \n",
    "エ　age >= 4  \n",
    "オ　age > 4  \n",
    "カ　age <= 9  \n",
    "キ　age < 9"
   ]
  },
  {
   "attachments": {},
   "cell_type": "markdown",
   "metadata": {},
   "source": [
    "実行テスト（0, 3, 4, 9, 10歳で実行）"
   ]
  },
  {
   "cell_type": "code",
   "execution_count": 2,
   "metadata": {},
   "outputs": [
    {
     "name": "stdout",
     "output_type": "stream",
     "text": [
      "100\n",
      "100\n",
      "300\n",
      "300\n",
      "500\n"
     ]
    }
   ],
   "source": [
    "print(fee(0)) # 100\n",
    "print(fee(3)) # 100\n",
    "print(fee(4)) # 300\n",
    "print(fee(9)) # 300\n",
    "print(fee(10)) # 500"
   ]
  },
  {
   "cell_type": "code",
   "execution_count": null,
   "metadata": {},
   "outputs": [],
   "source": []
  }
 ],
 "metadata": {
  "kernelspec": {
   "display_name": "Python 3",
   "language": "python",
   "name": "python3"
  },
  "language_info": {
   "codemirror_mode": {
    "name": "ipython",
    "version": 3
   },
   "file_extension": ".py",
   "mimetype": "text/x-python",
   "name": "python",
   "nbconvert_exporter": "python",
   "pygments_lexer": "ipython3",
   "version": "3.11.3"
  },
  "orig_nbformat": 4
 },
 "nbformat": 4,
 "nbformat_minor": 2
}
