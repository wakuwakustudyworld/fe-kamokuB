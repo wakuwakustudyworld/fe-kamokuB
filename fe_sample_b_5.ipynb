{
 "cells": [
  {
   "attachments": {},
   "cell_type": "markdown",
   "metadata": {},
   "source": [
    "## 基本情報技術者試験（科目B試験）サンプル問題\n",
    "### 問5\n",
    "　次のプログラム中の 【　 　】 に入れる正しい答えを，解答群の中から選べ。\n",
    "\n",
    "任意の異なる2文字をc1，c2とするとき，英単語群に含まれる英単語において，c1の次にc2が出現する割合を求めるプログラムである。英単語は，英小文字だけから成る。英単語の末尾の文字がc1である場合，その箇所は割合の計算に含めない。例えば，図に示す4 語の英単語“importance”，“inflation”，“information”，“innovation” から成る英単語群において，c1を“n”，c2を“f”とする。英単語の末尾の文字以外に“n”は五つあり，そのうち次の文字が“f”であるものは二つである。したがって，求める割合は，2÷5＝0.4である。c1とc2の並びが一度も出現しない場合，c1の出現回数によらず割合を0と定義する。\n",
    "\n",
    "#### 図　4語から成る英単語群の例(省略)\n",
    "\n",
    "プログラムにおいて，英単語群はWords型の大域変数wordsに格納されている。クラスWordsのメソッドの説明を，表に示す。本問において，文字列に対する演算子“＋”は，文字列の連結を表す。また，整数に対する演算子“÷”は，実数として計算する。\n",
    "\n",
    "#### 表　クラスWordsのメソッドの説明\n",
    "|メソッド|戻り値|説明|\n",
    "|---|---|---|\n",
    "|freq(文字列型: str) |整数型|英単語群中の文字列strの出現回数を返す。|\n",
    "|freqE(文字列型: str) |整数型|英単語群の中で，文字列strで終わる英単語の数を返す。|\n",
    "\n",
    "クラスWordsの定義"
   ]
  },
  {
   "cell_type": "code",
   "execution_count": 1,
   "metadata": {},
   "outputs": [],
   "source": [
    "class Words:\n",
    "    def __init__(self, words):\n",
    "        self.words = words\n",
    "    def freq(self, string):\n",
    "        count = 0\n",
    "        for word in self.words:\n",
    "            for i in range(len(word)-len(string)+1):\n",
    "                if word[i:i+len(string)] == string:\n",
    "                    count += 1\n",
    "        return count\n",
    "    def freqE(self, string):\n",
    "        count = 0\n",
    "        for word in self.words:\n",
    "            if word[-len(string):] == string:\n",
    "                count += 1\n",
    "        return count"
   ]
  },
  {
   "attachments": {},
   "cell_type": "markdown",
   "metadata": {},
   "source": [
    "〔プログラム〕"
   ]
  },
  {
   "cell_type": "code",
   "execution_count": 2,
   "metadata": {},
   "outputs": [],
   "source": [
    "# 英単語群を格納\n",
    "words = Words(['importance', 'inflation', 'information', 'innovation'])"
   ]
  },
  {
   "cell_type": "code",
   "execution_count": 3,
   "metadata": {},
   "outputs": [],
   "source": [
    "# c1の次にc2が出現する割合を返す\n",
    "def prob(c1 : str, c2 : str) -> float:\n",
    "    s1 = c1\n",
    "    s2 = c2\n",
    "    if words.freq(s1 + s2) > 0:\n",
    "        return words.freq(s1 + s2) / (words.freq(s1) - words.freqE(s1)) # この式が空欄\n",
    "    else:\n",
    "        return 0"
   ]
  },
  {
   "attachments": {},
   "cell_type": "markdown",
   "metadata": {},
   "source": [
    "問題文の例でテスト"
   ]
  },
  {
   "cell_type": "code",
   "execution_count": 4,
   "metadata": {},
   "outputs": [
    {
     "data": {
      "text/plain": [
       "0.4"
      ]
     },
     "execution_count": 4,
     "metadata": {},
     "output_type": "execute_result"
    }
   ],
   "source": [
    "prob('n', 'f')"
   ]
  },
  {
   "cell_type": "code",
   "execution_count": null,
   "metadata": {},
   "outputs": [],
   "source": []
  }
 ],
 "metadata": {
  "kernelspec": {
   "display_name": "Python 3",
   "language": "python",
   "name": "python3"
  },
  "language_info": {
   "codemirror_mode": {
    "name": "ipython",
    "version": 3
   },
   "file_extension": ".py",
   "mimetype": "text/x-python",
   "name": "python",
   "nbconvert_exporter": "python",
   "pygments_lexer": "ipython3",
   "version": "3.11.3"
  },
  "orig_nbformat": 4
 },
 "nbformat": 4,
 "nbformat_minor": 2
}
