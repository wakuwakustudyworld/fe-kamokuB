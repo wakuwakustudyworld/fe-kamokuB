{
 "cells": [
  {
   "cell_type": "code",
   "execution_count": null,
   "metadata": {},
   "outputs": [],
   "source": [
    "## 基本情報技術者試験（科目B試験）サンプル問題\n",
    "### 問2\n",
    "次のプログラム中の 【　a　】と【　b　】 に入れる正しい答えの組合せを，解答群の中から選べ。ここで，配列の要素番号は1から始まる。\n",
    "\n",
    "次のプログラムは，整数型の配列arrayの要素の並びを逆順にする。\n",
    "\n",
    "〔プログラム〕\n",
    "※ Pythonでは，配列（リスト）の要素番号は0から始まるので，プログラムと選択肢を変更。"
   ]
  },
  {
   "cell_type": "code",
   "execution_count": 1,
   "metadata": {},
   "outputs": [],
   "source": [
    "array : list = [1, 2, 3, 4, 5]\n",
    "for left in range(len(array)//2):\n",
    "    right = len(array) - left - 1 # 右辺が空欄a\n",
    "    tmp = array[right]\n",
    "    array[right] = array[left]\n",
    "    array[left] = tmp # 左辺が空欄b"
   ]
  },
  {
   "attachments": {},
   "cell_type": "markdown",
   "metadata": {},
   "source": [
    "選択肢の条件を，Python文法で直して，空欄aの要素番号を変更したもの（正解はウ）  \n",
    "||a|b|\n",
    "|---|---|---|\n",
    "|ア|len(array) - left|array[left]|\n",
    "|イ|len(array) - left|array[right]|\n",
    "|ウ|len(array) - left - 1|array[left]|\n",
    "|エ|len(array) - left - 1|array[right]|"
   ]
  },
  {
   "attachments": {},
   "cell_type": "markdown",
   "metadata": {},
   "source": [
    "実行結果を確認"
   ]
  },
  {
   "cell_type": "code",
   "execution_count": 2,
   "metadata": {},
   "outputs": [
    {
     "name": "stdout",
     "output_type": "stream",
     "text": [
      "[5, 4, 3, 2, 1]\n"
     ]
    }
   ],
   "source": [
    "print(array)"
   ]
  },
  {
   "cell_type": "code",
   "execution_count": null,
   "metadata": {},
   "outputs": [],
   "source": []
  }
 ],
 "metadata": {
  "kernelspec": {
   "display_name": "Python 3",
   "language": "python",
   "name": "python3"
  },
  "language_info": {
   "codemirror_mode": {
    "name": "ipython",
    "version": 3
   },
   "file_extension": ".py",
   "mimetype": "text/x-python",
   "name": "python",
   "nbconvert_exporter": "python",
   "pygments_lexer": "ipython3",
   "version": "3.11.3"
  },
  "orig_nbformat": 4
 },
 "nbformat": 4,
 "nbformat_minor": 2
}
