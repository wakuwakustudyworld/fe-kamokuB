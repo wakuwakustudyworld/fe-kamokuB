{
 "cells": [
  {
   "attachments": {},
   "cell_type": "markdown",
   "metadata": {},
   "source": [
    "## 4-3-4 演習問題\n",
    "\n",
    "### 問1 再帰的に定義された関数\n",
    "表　クラスStackの説明のクラス定義"
   ]
  },
  {
   "cell_type": "code",
   "execution_count": 2,
   "metadata": {},
   "outputs": [],
   "source": [
    "class Stack:\n",
    "    def __init__(self, qData):\n",
    "        self.data = qData\n",
    "    def push(self, value):\n",
    "        self.data.append(value)\n",
    "    def pop(self):\n",
    "        return self.data.pop()\n",
    "    def empty(self):\n",
    "        return len(self.data) == 0"
   ]
  },
  {
   "attachments": {},
   "cell_type": "markdown",
   "metadata": {},
   "source": [
    "〔関数f()のプログラム〕"
   ]
  },
  {
   "cell_type": "code",
   "execution_count": 5,
   "metadata": {},
   "outputs": [],
   "source": [
    "def f():\n",
    "    if A.empty():\n",
    "        return\n",
    "    else:\n",
    "        C.push(A.pop())\n",
    "        f()\n",
    "        B.push(C.pop())\n",
    "        return"
   ]
  },
  {
   "attachments": {},
   "cell_type": "markdown",
   "metadata": {},
   "source": [
    "〔実行手順〕"
   ]
  },
  {
   "cell_type": "code",
   "execution_count": 8,
   "metadata": {},
   "outputs": [],
   "source": [
    "A = Stack([1, 2, 3])\n",
    "B = Stack([1, 2, 3])\n",
    "C = Stack([1, 2, 3])\n",
    "f()"
   ]
  },
  {
   "attachments": {},
   "cell_type": "markdown",
   "metadata": {},
   "source": [
    "Bの内容表示"
   ]
  },
  {
   "cell_type": "code",
   "execution_count": 10,
   "metadata": {},
   "outputs": [
    {
     "name": "stdout",
     "output_type": "stream",
     "text": [
      "[1, 2, 3, 1, 2, 3]\n"
     ]
    }
   ],
   "source": [
    "print(B.data)"
   ]
  },
  {
   "attachments": {},
   "cell_type": "markdown",
   "metadata": {},
   "source": [
    "### 問3 ユークリッドの互除法\n",
    "〔プログラム〕   \n",
    "初期値を設定"
   ]
  },
  {
   "cell_type": "code",
   "execution_count": 11,
   "metadata": {},
   "outputs": [],
   "source": [
    "A = 876\n",
    "B = 204"
   ]
  },
  {
   "attachments": {},
   "cell_type": "markdown",
   "metadata": {},
   "source": [
    "回数を，変数 countでカウント"
   ]
  },
  {
   "cell_type": "code",
   "execution_count": 13,
   "metadata": {},
   "outputs": [
    {
     "name": "stdout",
     "output_type": "stream",
     "text": [
      "A, B, L 876 204 12\n",
      "回数 11\n"
     ]
    }
   ],
   "source": [
    "L : int = A\n",
    "S : int = B\n",
    "count = 0 # 回数をカウントする変数\n",
    "while L != S:\n",
    "    count += 1 # 回数をカウント\n",
    "    if L > S:\n",
    "        L = L - S\n",
    "    elif L < S:\n",
    "        S = S - L\n",
    "count += 1 # 最後の1回をカウント\n",
    "print('A, B, L', A, B, L)\n",
    "print('回数', count)"
   ]
  },
  {
   "cell_type": "code",
   "execution_count": null,
   "metadata": {},
   "outputs": [],
   "source": []
  }
 ],
 "metadata": {
  "kernelspec": {
   "display_name": "Python 3",
   "language": "python",
   "name": "python3"
  },
  "language_info": {
   "codemirror_mode": {
    "name": "ipython",
    "version": 3
   },
   "file_extension": ".py",
   "mimetype": "text/x-python",
   "name": "python",
   "nbconvert_exporter": "python",
   "pygments_lexer": "ipython3",
   "version": "3.11.3"
  },
  "orig_nbformat": 4
 },
 "nbformat": 4,
 "nbformat_minor": 2
}
