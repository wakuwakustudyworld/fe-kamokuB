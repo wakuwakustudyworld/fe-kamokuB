{
 "cells": [
  {
   "attachments": {},
   "cell_type": "markdown",
   "metadata": {},
   "source": [
    "## ITパスポート試験　令和5年度\n",
    "### 問60\n",
    "手続printArray は，配列integerArray の要素を並べ替えて出力する。手続printArrayを呼び出したときの出力はどれか。ここで，配列の要素番号は1から始まる。\n",
    "\n",
    "〔プログラム〕  \n",
    "※ Pythonでは，配列（リスト）の要素番号が0から始まるので，for文を変更"
   ]
  },
  {
   "cell_type": "code",
   "execution_count": 1,
   "metadata": {},
   "outputs": [],
   "source": [
    "def printArray():\n",
    "    integerArray = [2, 4, 1, 3]\n",
    "    for n in range(len(integerArray) - 1):\n",
    "        for m in range(len(integerArray) - n - 1):\n",
    "            if integerArray[m] > integerArray[m + 1]:\n",
    "                integerArray[m], integerArray[m + 1] = integerArray[m + 1], integerArray[m]\n",
    "    print(integerArray)"
   ]
  },
  {
   "cell_type": "code",
   "execution_count": 2,
   "metadata": {},
   "outputs": [
    {
     "name": "stdout",
     "output_type": "stream",
     "text": [
      "[1, 2, 3, 4]\n"
     ]
    }
   ],
   "source": [
    "printArray()"
   ]
  },
  {
   "cell_type": "code",
   "execution_count": null,
   "metadata": {},
   "outputs": [],
   "source": []
  }
 ],
 "metadata": {
  "kernelspec": {
   "display_name": "Python 3",
   "language": "python",
   "name": "python3"
  },
  "language_info": {
   "codemirror_mode": {
    "name": "ipython",
    "version": 3
   },
   "file_extension": ".py",
   "mimetype": "text/x-python",
   "name": "python",
   "nbconvert_exporter": "python",
   "pygments_lexer": "ipython3",
   "version": "3.11.3"
  },
  "orig_nbformat": 4
 },
 "nbformat": 4,
 "nbformat_minor": 2
}
