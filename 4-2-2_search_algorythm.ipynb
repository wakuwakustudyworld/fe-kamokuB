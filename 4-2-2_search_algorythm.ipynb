{
 "cells": [
  {
   "attachments": {},
   "cell_type": "markdown",
   "metadata": {},
   "source": [
    "## 4-2-2 探索のアルゴリズム\n",
    "定番アルゴリズムの代表的なものに探索のアルゴリズムがあります。\n",
    "\n",
    "### 探索アルゴリズム\n",
    "1. 線形探索  \n",
    "【例】線形探索を行う関数search"
   ]
  },
  {
   "cell_type": "code",
   "execution_count": 1,
   "metadata": {},
   "outputs": [],
   "source": [
    "def search(data, target):\n",
    "    for i in range(len(data)):  # 先頭から順番に探索\n",
    "        if data[i] == target:   # 見つかったときにはその位置iを返す\n",
    "            return i\n",
    "    return -1                   # 見つからなかったときは-1を返す"
   ]
  },
  {
   "attachments": {},
   "cell_type": "markdown",
   "metadata": {},
   "source": [
    "【例】関数searchの実行"
   ]
  },
  {
   "cell_type": "code",
   "execution_count": 2,
   "metadata": {},
   "outputs": [
    {
     "name": "stdout",
     "output_type": "stream",
     "text": [
      "4\n"
     ]
    }
   ],
   "source": [
    "data : list = [2, 3, 5, 6, 7, 8, 9]\n",
    "target : int = 7\n",
    "print(search(data, target))"
   ]
  },
  {
   "attachments": {},
   "cell_type": "markdown",
   "metadata": {},
   "source": [
    "2. 2分探索  \n",
    "【例】2分探索を行う関数search"
   ]
  },
  {
   "cell_type": "code",
   "execution_count": 3,
   "metadata": {},
   "outputs": [],
   "source": [
    "def search(data, target):\n",
    "    start, end = 0, len(data)-1   # 探索するデータの始点startと終点endを設定\n",
    "    while start <= end:           # 探索するデータがある間は繰り返す\n",
    "        i = (start + end) // 2    # 真ん中のデータをiとする\n",
    "        if data[i] == target:     # 見つかったときにはその位置iを返す\n",
    "            return i\n",
    "        elif data[i] < target:    # targetの値の方が大きい場合は後のグループを探索\n",
    "            start = i + 1\n",
    "        else:                     # そうでない合は前のグループを探索\n",
    "            end = i - 1\n",
    "    return -1                     # 見つからなかったときは-1を返す"
   ]
  },
  {
   "attachments": {},
   "cell_type": "markdown",
   "metadata": {},
   "source": [
    "関数searchの実行（テキストの例）"
   ]
  },
  {
   "cell_type": "code",
   "execution_count": 4,
   "metadata": {},
   "outputs": [
    {
     "name": "stdout",
     "output_type": "stream",
     "text": [
      "要素番号2にデータ3を見つけました。\n"
     ]
    }
   ],
   "source": [
    "data = [1, 2, 3, 4, 5, 6, 7, 8, 9]\n",
    "target = 3\n",
    "print(\"要素番号{}にデータ{}を見つけました。\".format(search(data, target), target))"
   ]
  },
  {
   "cell_type": "code",
   "execution_count": null,
   "metadata": {},
   "outputs": [],
   "source": []
  }
 ],
 "metadata": {
  "kernelspec": {
   "display_name": "Python 3",
   "language": "python",
   "name": "python3"
  },
  "language_info": {
   "codemirror_mode": {
    "name": "ipython",
    "version": 3
   },
   "file_extension": ".py",
   "mimetype": "text/x-python",
   "name": "python",
   "nbconvert_exporter": "python",
   "pygments_lexer": "ipython3",
   "version": "3.11.3"
  },
  "orig_nbformat": 4
 },
 "nbformat": 4,
 "nbformat_minor": 2
}
