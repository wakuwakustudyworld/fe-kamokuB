{
 "cells": [
  {
   "attachments": {},
   "cell_type": "markdown",
   "metadata": {},
   "source": [
    "## 基本情報技術者試験（科目B試験）サンプル問題セット\n",
    "### 問4\n",
    "次のプログラム中の 【　a　】〜【　c　】に入れる正しい答えの組合せを，解答群の中から選べ。\n",
    "\n",
    "関数gcdは，引数で与えられた二つの正の整数num1とnum2の最大公約数を，次の（1）〜（3）の性質を利用して求める。\n",
    "* （1）num1とnum2が等しいとき，num1とnum2の最大公約数はnum1である。\n",
    "* （2）num1がnum2より大きいとき，num1とnum2の最大公約数は，（num1−num2）とnum2の最大公約数と等しい。\n",
    "* （3）num2がnum1より大きいとき，num1とnum2の最大公約数は，（num2−num1）とnum1の最大公約数と等しい。\n",
    "\n",
    "〔プログラム〕  \n",
    "※Pythonでは，空欄c部分(endifやendwhile)は不要。"
   ]
  },
  {
   "cell_type": "code",
   "execution_count": 1,
   "metadata": {},
   "outputs": [],
   "source": [
    "def gcd(num1 : int, num2 : int) -> int:\n",
    "    x : int = num1\n",
    "    y : int = num2\n",
    "    while x != y: # この行が空欄a\n",
    "        if x > y: # この行の条件式が空欄b\n",
    "            x = x - y\n",
    "        else:\n",
    "            y = y - x\n",
    "    return x"
   ]
  },
  {
   "attachments": {},
   "cell_type": "markdown",
   "metadata": {},
   "source": [
    "選択肢  \n",
    "空欄aは ア，イが 「if x != y」，ウ，エが「while x != y」  \n",
    "空欄bは ア，ウが 「x > y」，イ，エが「x < y」"
   ]
  },
  {
   "cell_type": "code",
   "execution_count": 2,
   "metadata": {},
   "outputs": [
    {
     "name": "stdout",
     "output_type": "stream",
     "text": [
      "6\n"
     ]
    }
   ],
   "source": [
    "#例\n",
    "print(gcd(12, 18)) # 6"
   ]
  },
  {
   "cell_type": "code",
   "execution_count": null,
   "metadata": {},
   "outputs": [],
   "source": []
  }
 ],
 "metadata": {
  "kernelspec": {
   "display_name": "Python 3",
   "language": "python",
   "name": "python3"
  },
  "language_info": {
   "codemirror_mode": {
    "name": "ipython",
    "version": 3
   },
   "file_extension": ".py",
   "mimetype": "text/x-python",
   "name": "python",
   "nbconvert_exporter": "python",
   "pygments_lexer": "ipython3",
   "version": "3.11.3"
  },
  "orig_nbformat": 4
 },
 "nbformat": 4,
 "nbformat_minor": 2
}
