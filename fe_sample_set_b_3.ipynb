{
 "cells": [
  {
   "attachments": {},
   "cell_type": "markdown",
   "metadata": {},
   "source": [
    "## 基本情報技術者試験（科目B試験）サンプル問題セット\n",
    "### 問3\n",
    "次の記述中の 【　　　】 に入れる正しい答えを，解答群の中から選べ。ここで，配列の要素番号は 1 から始まる。\n",
    "\n",
    "　関数makeNewArrayは，要素数2以上の整数型の配列を引数にとり，整数型の配列を返す関数である。関数makeNewArrayをmakeNewArray({3, 2, 1, 6, 5, 4})として呼び出したとき，戻り値の配列の要素番号5の値は 【　　　】となる。\n",
    "\n",
    "〔プログラム〕\n",
    "※Pythonでは配列（リスト）の要素番号は0から始まるので，プログラムの初期値，終値を少し変更。また，inが予約語なので，変数名をinからinaに変更。空欄の答えは，要素番号4の値を求める"
   ]
  },
  {
   "cell_type": "code",
   "execution_count": 1,
   "metadata": {},
   "outputs": [],
   "source": [
    "def makeNewArray(ina : list) -> list:\n",
    "    out = [] # 要素数0の配列\n",
    "    out.append(ina[0])\n",
    "    for i in range(1, len(ina)):\n",
    "        tail = out[-1]\n",
    "        out.append(tail + ina[i])\n",
    "    return out"
   ]
  },
  {
   "cell_type": "code",
   "execution_count": 2,
   "metadata": {},
   "outputs": [
    {
     "name": "stdout",
     "output_type": "stream",
     "text": [
      "17\n"
     ]
    }
   ],
   "source": [
    "out = makeNewArray([3, 2, 1, 6, 5, 4])\n",
    "print(out[4])"
   ]
  },
  {
   "cell_type": "code",
   "execution_count": null,
   "metadata": {},
   "outputs": [],
   "source": []
  }
 ],
 "metadata": {
  "kernelspec": {
   "display_name": "Python 3",
   "language": "python",
   "name": "python3"
  },
  "language_info": {
   "codemirror_mode": {
    "name": "ipython",
    "version": 3
   },
   "file_extension": ".py",
   "mimetype": "text/x-python",
   "name": "python",
   "nbconvert_exporter": "python",
   "pygments_lexer": "ipython3",
   "version": "3.11.3"
  },
  "orig_nbformat": 4
 },
 "nbformat": 4,
 "nbformat_minor": 2
}
