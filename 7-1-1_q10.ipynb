{
 "cells": [
  {
   "attachments": {},
   "cell_type": "markdown",
   "metadata": {},
   "source": [
    "## 7-1-1　予想問題\n",
    "### 問10\n",
    "　手続hashを使用して，配列Aの要素A[0]，A[1]，… ，A[9]に正の整数kを格納する。hash(k)を実行して，16，43，73，24，85を順に配列Aに格納したとき，85が格納される場所はどこか。ここで，配列の要素番号は0から始まり，配列の要素は全て0に初期化されている。\n",
    "\n",
    "〔プログラム〕\n"
   ]
  },
  {
   "cell_type": "code",
   "execution_count": 1,
   "metadata": {},
   "outputs": [],
   "source": [
    "A = [0, 0, 0, 0, 0, 0, 0, 0, 0, 0] # 大域: 整数型配列A"
   ]
  },
  {
   "cell_type": "code",
   "execution_count": 2,
   "metadata": {},
   "outputs": [],
   "source": [
    "def hash(k : int):\n",
    "    global A\n",
    "    if A[k % 10] == 0:\n",
    "        A[k % 10] = k\n",
    "    elif A[(k + 1) % 10] == 0:\n",
    "        A[(k + 1) % 10] = k\n",
    "    elif A[(k + 4) % 10] == 0:\n",
    "        A[(k + 4) % 10] = k\n",
    "    else:\n",
    "        print(\"error\")\n",
    "        return"
   ]
  },
  {
   "attachments": {},
   "cell_type": "markdown",
   "metadata": {},
   "source": [
    "実行"
   ]
  },
  {
   "cell_type": "code",
   "execution_count": 3,
   "metadata": {},
   "outputs": [],
   "source": [
    "hash(16)\n",
    "hash(43)\n",
    "hash(73)\n",
    "hash(24)\n",
    "hash(85)"
   ]
  },
  {
   "attachments": {},
   "cell_type": "markdown",
   "metadata": {},
   "source": [
    "実行結果確認"
   ]
  },
  {
   "cell_type": "code",
   "execution_count": 4,
   "metadata": {},
   "outputs": [
    {
     "name": "stdout",
     "output_type": "stream",
     "text": [
      "A[0] = 0\n",
      "A[1] = 0\n",
      "A[2] = 0\n",
      "A[3] = 43\n",
      "A[4] = 73\n",
      "A[5] = 24\n",
      "A[6] = 16\n",
      "A[7] = 0\n",
      "A[8] = 0\n",
      "A[9] = 85\n"
     ]
    }
   ],
   "source": [
    "for i, v in enumerate(A):\n",
    "    print(f\"A[{i}] = {v}\")"
   ]
  },
  {
   "cell_type": "code",
   "execution_count": null,
   "metadata": {},
   "outputs": [],
   "source": []
  }
 ],
 "metadata": {
  "kernelspec": {
   "display_name": "Python 3",
   "language": "python",
   "name": "python3"
  },
  "language_info": {
   "codemirror_mode": {
    "name": "ipython",
    "version": 3
   },
   "file_extension": ".py",
   "mimetype": "text/x-python",
   "name": "python",
   "nbconvert_exporter": "python",
   "pygments_lexer": "ipython3",
   "version": "3.11.3"
  },
  "orig_nbformat": 4
 },
 "nbformat": 4,
 "nbformat_minor": 2
}
