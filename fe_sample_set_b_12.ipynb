{
 "cells": [
  {
   "attachments": {},
   "cell_type": "markdown",
   "metadata": {},
   "source": [
    "## 基本情報技術者試験（科目B試験）サンプル問題セット\n",
    "### 問12\n",
    "次のプログラム中の 【　　　】 に入れる正しい答えを，解答群の中から選べ。ここで，配列の要素番号は1から始まる。\n",
    "\n",
    "関数simRatioは，引数として与えられた要素数1以上の二つの文字型の配列s1とs2を比較し，要素数が等しい場合は，配列の並びがどの程度似ているかの指標として，（要素番号が同じ要素の文字同士が一致する要素の組みの個数 ÷ s1の要\n",
    "素数）を実数型で返す。例えば，配列の全ての要素が一致する場合の戻り値は1，いずれの要素も一致しない場合の戻り値は0である。  \n",
    "　なお，二つの配列の要素数が等しくない場合は，－1を返す。  \n",
    "　関数simRatioに与えるs1，s2及び戻り値の例を表に示す。プログラムでは，配列の領域外を参照してはならないものとする。\n",
    "\n",
    "#### 表　関数simRatioに与えるs1，s2及び戻り値の例\n",
    "|s1|s2|戻り値|\n",
    "|---|---|---|\n",
    "|{\"a\", \"p\", \"p\", \"l\", \"e\"}|{\"a\", \"p\", \"p\", \"l\", \"e\"}|1|\n",
    "|{\"a\", \"p\", \"p\", \"l\", \"e\"}|{\"a\", \"p\", \"r\", \"i\", \"l\"}|0.4|\n",
    "|{\"a\", \"p\", \"p\", \"l\", \"e\"}|{\"m\", \"e\", \"l\", \"o\", \"n\"}|0|\n",
    "|{\"a\", \"p\", \"p\", \"l\", \"e\"}|{\"p\", \"e\", \"n\"}|－1|\n",
    "\n",
    "〔プログラム〕  \n",
    "Pythonでは配列（リスト）の要素番号は0から始まるので，for文の初期値と終値を変更"
   ]
  },
  {
   "cell_type": "code",
   "execution_count": 1,
   "metadata": {},
   "outputs": [],
   "source": [
    "def simRatio(s1 : list, s2 : list) -> float:\n",
    "    cnt : int = 0\n",
    "    if len(s1) != len(s2):\n",
    "        return -1\n",
    "    for i in range(len(s1)):\n",
    "        if s1[i] == s2[i]: # if文の条件式が空欄\n",
    "            cnt += 1\n",
    "    return cnt / len(s1) # 実数として計算する\n"
   ]
  },
  {
   "attachments": {},
   "cell_type": "markdown",
   "metadata": {},
   "source": [
    "テスト"
   ]
  },
  {
   "cell_type": "code",
   "execution_count": 2,
   "metadata": {},
   "outputs": [
    {
     "name": "stdout",
     "output_type": "stream",
     "text": [
      "1.0\n",
      "0.4\n",
      "0.0\n",
      "-1\n"
     ]
    }
   ],
   "source": [
    "print(simRatio([\"a\", \"p\", \"p\", \"l\", \"e\"], [\"a\", \"p\", \"p\", \"l\", \"e\"])) # 1\n",
    "print(simRatio([\"a\", \"p\", \"p\", \"l\", \"e\"], [\"a\", \"p\", \"r\", \"i\", \"l\"])) # 0.4\n",
    "print(simRatio([\"a\", \"p\", \"p\", \"l\", \"e\"], [\"m\", \"e\", \"l\", \"o\", \"n\"])) # 0\n",
    "print(simRatio([\"a\", \"p\", \"p\", \"l\", \"e\"], [\"p\", \"e\", \"n\"]))           # －1"
   ]
  },
  {
   "cell_type": "code",
   "execution_count": null,
   "metadata": {},
   "outputs": [],
   "source": []
  }
 ],
 "metadata": {
  "kernelspec": {
   "display_name": "Python 3",
   "language": "python",
   "name": "python3"
  },
  "language_info": {
   "codemirror_mode": {
    "name": "ipython",
    "version": 3
   },
   "file_extension": ".py",
   "mimetype": "text/x-python",
   "name": "python",
   "nbconvert_exporter": "python",
   "pygments_lexer": "ipython3",
   "version": "3.11.3"
  },
  "orig_nbformat": 4
 },
 "nbformat": 4,
 "nbformat_minor": 2
}
