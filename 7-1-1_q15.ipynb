{
 "cells": [
  {
   "attachments": {},
   "cell_type": "markdown",
   "metadata": {},
   "source": [
    "## 7-1-1　予想問題\n",
    "### 問15\n",
    "次のプログラム中の【　a　】と【　b　】に入れる正しい答えの組合せを，解答群の中から選べ。ここで，配列の要素番号は1から始まる。\n",
    "\n",
    "　k-近傍法（k-Nearest Neighbor Algorithm, k-NN）は，分類や回帰問題を解くための教師あり学習アルゴリズムである。k-NNアルゴリズムは，新しいデータ点に対して最も近いk個の既知のデータ点を用いて予測を行う。具体的には，既知のデータ点と新しいデータ点間の距離を計算し，最も近いk個のデータ点のラベルを用いて，新しいデータ点のラベルを決定する。  \n",
    "　関数kNearestNeighborsは，既知のデータ点の2次元配列trainDataとそのラベルの配列trainLabelから，新しいデータ点dataに対して最も近いk 個のデータ点を求め，新しいデータ点のラベルを返す。ここでデータ点は，2次元データを扱うこととする。  \n",
    "　関数kNearestNeighborsで使う関数powは，第1引数として正の実数aを，第2引数として実数bを受け取り，aのb乗の値を実数型で返す。\n",
    "\n",
    "〔プログラム〕  \n",
    "（注）Pythonでは配列（リスト）の要素番号は0から始まるので，要素番号をすべて1ずらすよう修正"
   ]
  },
  {
   "cell_type": "code",
   "execution_count": 1,
   "metadata": {},
   "outputs": [],
   "source": [
    "def kNearestNeighbors(trainData, trainLabel, data, k):\n",
    "    itemRank = [None] * k\n",
    "    distRank = [None] * k\n",
    "    labelList = []\n",
    "    labelCount = []\n",
    "    # trainDataの距離を計算し，近いものからk個を選出\n",
    "    x = data[0]\n",
    "    y = data[1]\n",
    "    for i in range(len(trainData)):\n",
    "        xi = trainData[i][0]\n",
    "        yi = trainData[i][1]\n",
    "        dist = pow(pow(x - xi, 2) + pow(y - yi, 2), 0.5)\n",
    "        j = 0\n",
    "        while (j < k and itemRank[j] != None and distRank[j] <= dist): # 【修正】テキストの正誤表を反映\n",
    "            j = j + 1\n",
    "        if (j < k and (itemRank[j] == None or j == k - 1)): # 【修正】テキストの正誤表を反映\n",
    "            itemRank[j] = i\n",
    "            distRank[j] = dist\n",
    "        elif (j < k - 1): # 【修正】添字に合わせてテキストから条件を修正\n",
    "            for m in range(k - 1, j, -1): # range関数部分が空欄a（初期値，終了値，増分）\n",
    "                itemRank[m] = itemRank[m - 1]\n",
    "                distRank[m] = distRank[m - 1]\n",
    "            itemRank[j] = i\n",
    "            distRank[j] = dist\n",
    "    \n",
    "    # 距離の近いデータについて，ラベルを数える\n",
    "    for i in range(len(itemRank)):\n",
    "        t = trainLabel[itemRank[i]]\n",
    "        j = 0\n",
    "        while (j < len(labelList) and t != labelList[j]): # andより後が空欄b\n",
    "            j = j + 1\n",
    "        if (j < len(labelList)):\n",
    "            labelCount[j] = labelCount[j] + 1\n",
    "        else:\n",
    "            labelList.append(t)\n",
    "            labelCount.append(1)\n",
    "\n",
    "    # 最も数の多いラベルを data のラベルとする\n",
    "    label = labelList[0]\n",
    "    count = labelCount[0]\n",
    "    for i in range(1, len(labelList)):\n",
    "        if (labelCount[i] > count):\n",
    "            label = labelList[i]\n",
    "            count = labelCount[i]\n",
    "    return label"
   ]
  },
  {
   "cell_type": "markdown",
   "metadata": {},
   "source": [
    "データの例(P.380の解説)"
   ]
  },
  {
   "cell_type": "code",
   "execution_count": 2,
   "metadata": {},
   "outputs": [],
   "source": [
    "trainData = [[1, 0], [2, 1], [4, 1], [1, 3], [2, 3], [4, 3]]\n",
    "trainLabel = [\"B\", \"A\", \"A\", \"B\", \"B\", \"A\"]\n",
    "data = [1.5, 2]\n",
    "k = 3"
   ]
  },
  {
   "cell_type": "code",
   "execution_count": 3,
   "metadata": {},
   "outputs": [
    {
     "name": "stdout",
     "output_type": "stream",
     "text": [
      "B\n"
     ]
    }
   ],
   "source": [
    "# 関数を実行\n",
    "label = kNearestNeighbors(trainData, trainLabel, data, k)\n",
    "print(label)"
   ]
  },
  {
   "cell_type": "code",
   "execution_count": null,
   "metadata": {},
   "outputs": [],
   "source": []
  }
 ],
 "metadata": {
  "kernelspec": {
   "display_name": "Python 3",
   "language": "python",
   "name": "python3"
  },
  "language_info": {
   "codemirror_mode": {
    "name": "ipython",
    "version": 3
   },
   "file_extension": ".py",
   "mimetype": "text/x-python",
   "name": "python",
   "nbconvert_exporter": "python",
   "pygments_lexer": "ipython3",
   "version": "3.11.3"
  },
  "orig_nbformat": 4
 },
 "nbformat": 4,
 "nbformat_minor": 2
}
