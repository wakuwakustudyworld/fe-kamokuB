{
 "cells": [
  {
   "attachments": {},
   "cell_type": "markdown",
   "metadata": {},
   "source": [
    "## 7-1-1　予想問題\n",
    "### 問6\n",
    "　次のプログラム中の【　 　】に入れる正しい答えを，解答群の中から選べ。\n",
    "\n",
    "　関数multiplyは8ビット型の2つの引数xbyte，ybyteを受け取り，2つの値を掛け算した結果を返す。例えば，関数multiplyをmultiply(00001010, 00000011)として呼び出すと，戻り値は00011110となる。  \n",
    "　なお，演算子&はビット単位の論理積，演算子|はビット単位の論理和，演算子>>は論理右シフト，演算子<<は論理左シフトを表す。例えば，value >> nはvalueの値をnビットだけ右に論理シフトし，value << nはvalueの値をnビットだけ左に論理シフトする。\n",
    "\n",
    "〔プログラム〕\n"
   ]
  },
  {
   "cell_type": "code",
   "execution_count": 1,
   "metadata": {},
   "outputs": [],
   "source": [
    "def multiply(xbyte : int, ybyte : int) -> int:\n",
    "    zbyte : int = 0b0\n",
    "    pbyte : int = 0b1 #8バイト部分が空欄a\n",
    "    for i in range(1, 9):\n",
    "        if (ybyte & pbyte == pbyte):\n",
    "            zbyte = zbyte + xbyte\n",
    "        # 次の2行が空欄b\n",
    "        xbyte <<= 1\n",
    "        pbyte <<= 1\n",
    "    return zbyte"
   ]
  },
  {
   "attachments": {},
   "cell_type": "markdown",
   "metadata": {},
   "source": [
    "テスト"
   ]
  },
  {
   "cell_type": "code",
   "execution_count": 2,
   "metadata": {},
   "outputs": [
    {
     "data": {
      "text/plain": [
       "'0b11110'"
      ]
     },
     "execution_count": 2,
     "metadata": {},
     "output_type": "execute_result"
    }
   ],
   "source": [
    "bin(multiply(0b00001010, 0b00000011))"
   ]
  },
  {
   "cell_type": "code",
   "execution_count": null,
   "metadata": {},
   "outputs": [],
   "source": []
  }
 ],
 "metadata": {
  "kernelspec": {
   "display_name": "Python 3",
   "language": "python",
   "name": "python3"
  },
  "language_info": {
   "codemirror_mode": {
    "name": "ipython",
    "version": 3
   },
   "file_extension": ".py",
   "mimetype": "text/x-python",
   "name": "python",
   "nbconvert_exporter": "python",
   "pygments_lexer": "ipython3",
   "version": "3.11.3"
  },
  "orig_nbformat": 4
 },
 "nbformat": 4,
 "nbformat_minor": 2
}
