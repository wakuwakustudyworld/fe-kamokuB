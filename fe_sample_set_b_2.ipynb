{
 "cells": [
  {
   "attachments": {},
   "cell_type": "markdown",
   "metadata": {},
   "source": [
    "## 基本情報技術者試験（科目B試験）サンプル問題セット\n",
    "### 問2\n",
    "次のプログラム中の 【　a　】， 【　b　】に入れる正しい答えの組合せを，解答群の中から選べ。\n",
    "\n",
    "関数fizzBuzzは，引数で与えられた値が，3で割り切れて5で割り切れない場合は“3で割り切れる”を，5で割り切れて3で割り切れない場合は“5で割り切れる”を，3と5で割り切れる場合は“3と5で割り切れる”を返す。それ以外の場合は“3でも5でも割り切れない”を返す。"
   ]
  },
  {
   "cell_type": "code",
   "execution_count": null,
   "metadata": {},
   "outputs": [],
   "source": []
  }
 ],
 "metadata": {
  "language_info": {
   "name": "python"
  },
  "orig_nbformat": 4
 },
 "nbformat": 4,
 "nbformat_minor": 2
}
