{
 "cells": [
  {
   "attachments": {},
   "cell_type": "markdown",
   "metadata": {},
   "source": [
    "## 基本情報技術者試験（科目B試験）サンプル問題セット\n",
    "### 問2\n",
    "次のプログラム中の 【　a　】， 【　b　】に入れる正しい答えの組合せを，解答群の中から選べ。\n",
    "\n",
    "関数fizzBuzzは，引数で与えられた値が，3で割り切れて5で割り切れない場合は“3で割り切れる”を，5で割り切れて3で割り切れない場合は“5で割り切れる”を，3と5で割り切れる場合は“3と5で割り切れる”を返す。それ以外の場合は“3でも5でも割り切れない”を返す。\n",
    "\n",
    "〔プログラム〕"
   ]
  },
  {
   "cell_type": "code",
   "execution_count": 1,
   "metadata": {},
   "outputs": [],
   "source": [
    "def fizzBuzz(num : int) -> str:\n",
    "    if num % (3*5) == 0:  # 数字の部分が空欄a\n",
    "        result = \"3と5で割り切れる\" # 数字の部分が空欄a\n",
    "    elif num % 3 == 0: # 数字の部分が空欄b\n",
    "        result = \"3で割り切れる\" # 数字の部分が空欄b\n",
    "    elif num % 5 == 0: # 数字の部分が空欄c\n",
    "        result = \"5で割り切れる\" # 数字の部分が空欄c\n",
    "    else:\n",
    "        result = \"3でも5でも割り切れない\"\n",
    "    return result"
   ]
  },
  {
   "cell_type": "code",
   "execution_count": 2,
   "metadata": {},
   "outputs": [
    {
     "name": "stdout",
     "output_type": "stream",
     "text": [
      "3と5で割り切れる\n"
     ]
    }
   ],
   "source": [
    "print(fizzBuzz(15))"
   ]
  },
  {
   "cell_type": "code",
   "execution_count": null,
   "metadata": {},
   "outputs": [],
   "source": []
  }
 ],
 "metadata": {
  "kernelspec": {
   "display_name": "Python 3",
   "language": "python",
   "name": "python3"
  },
  "language_info": {
   "codemirror_mode": {
    "name": "ipython",
    "version": 3
   },
   "file_extension": ".py",
   "mimetype": "text/x-python",
   "name": "python",
   "nbconvert_exporter": "python",
   "pygments_lexer": "ipython3",
   "version": "3.11.3"
  },
  "orig_nbformat": 4
 },
 "nbformat": 4,
 "nbformat_minor": 2
}
