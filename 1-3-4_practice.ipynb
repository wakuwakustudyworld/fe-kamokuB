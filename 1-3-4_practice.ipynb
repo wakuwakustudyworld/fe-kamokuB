{
 "cells": [
  {
   "attachments": {},
   "cell_type": "markdown",
   "metadata": {},
   "source": [
    "## 1-3-4 演習問題\n",
    "### 問1　終了時のxの値"
   ]
  },
  {
   "cell_type": "code",
   "execution_count": 1,
   "metadata": {},
   "outputs": [],
   "source": [
    "x : int = 98\n",
    "y : int = 42\n",
    "while x != y:\n",
    "    if x > y:\n",
    "        x = x - y\n",
    "    else:\n",
    "        y = y - x"
   ]
  },
  {
   "cell_type": "code",
   "execution_count": 2,
   "metadata": {},
   "outputs": [
    {
     "name": "stdout",
     "output_type": "stream",
     "text": [
      "14\n"
     ]
    }
   ],
   "source": [
    "print(x)"
   ]
  },
  {
   "attachments": {},
   "cell_type": "markdown",
   "metadata": {},
   "source": [
    "### 問2　平均を求める処理\n",
    "Pythonで関数は，def文を用いて定義します。  "
   ]
  },
  {
   "cell_type": "code",
   "execution_count": 4,
   "metadata": {},
   "outputs": [],
   "source": [
    "def calcMean(dataArray : list) -> float:\n",
    "    sum : float = 0.0\n",
    "    for i in range(len(dataArray)):\n",
    "        sum = sum + dataArray[i]\n",
    "    mean = sum / len(dataArray)\n",
    "    return mean"
   ]
  },
  {
   "cell_type": "code",
   "execution_count": 5,
   "metadata": {},
   "outputs": [
    {
     "name": "stdout",
     "output_type": "stream",
     "text": [
      "3.3\n"
     ]
    }
   ],
   "source": [
    "# 実行例\n",
    "dataArray = [1.1, 2.2, 3.3, 4.4, 5.5]\n",
    "print(calcMean(dataArray))"
   ]
  },
  {
   "attachments": {},
   "cell_type": "markdown",
   "metadata": {},
   "source": [
    "### 問3 10進数を2進数に変換する処理\n",
    "要素番号が0から始まるので，2進数は下位桁から順に，配列の要素NISHIN[0]からNISHIN[7]に格納されます。"
   ]
  },
  {
   "cell_type": "code",
   "execution_count": 6,
   "metadata": {},
   "outputs": [],
   "source": [
    "j : int = 25 # 10進整数を入力　25 = 00011001\n",
    "NISHIN : list = [0, 0, 0, 0, 0, 0, 0, 0] # 2進数を格納するリストを初期化\n",
    "for i in range(8):\n",
    "    NISHIN[i] = j % 2\n",
    "    j = j // 2"
   ]
  },
  {
   "cell_type": "code",
   "execution_count": 7,
   "metadata": {},
   "outputs": [
    {
     "name": "stdout",
     "output_type": "stream",
     "text": [
      "[1, 0, 0, 1, 1, 0, 0, 0]\n"
     ]
    }
   ],
   "source": [
    "print(NISHIN)"
   ]
  },
  {
   "cell_type": "code",
   "execution_count": null,
   "metadata": {},
   "outputs": [],
   "source": []
  }
 ],
 "metadata": {
  "kernelspec": {
   "display_name": "Python 3",
   "language": "python",
   "name": "python3"
  },
  "language_info": {
   "codemirror_mode": {
    "name": "ipython",
    "version": 3
   },
   "file_extension": ".py",
   "mimetype": "text/x-python",
   "name": "python",
   "nbconvert_exporter": "python",
   "pygments_lexer": "ipython3",
   "version": "3.11.3"
  },
  "orig_nbformat": 4
 },
 "nbformat": 4,
 "nbformat_minor": 2
}
