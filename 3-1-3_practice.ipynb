{
 "cells": [
  {
   "attachments": {},
   "cell_type": "markdown",
   "metadata": {},
   "source": [
    "## 3-1-3 演習問題\n",
    "### 問1　文字列の連結プログラム\n",
    "初期値設定"
   ]
  },
  {
   "cell_type": "code",
   "execution_count": 1,
   "metadata": {},
   "outputs": [],
   "source": [
    "# X，Yの値の例\n",
    "X = [1, 2, 3]\n",
    "Y = [4, 5, 6]\n",
    "\n",
    "# Z 初期値0を設定した長さX+Yのリストを作成\n",
    "Z = [0] * (len(X) + len(Y))"
   ]
  },
  {
   "attachments": {},
   "cell_type": "markdown",
   "metadata": {},
   "source": [
    "〔プログラム〕"
   ]
  },
  {
   "cell_type": "code",
   "execution_count": 2,
   "metadata": {},
   "outputs": [],
   "source": [
    "m = len(X)\n",
    "n = len(Y)\n",
    "for k in range(m):\n",
    "    Z[k] = X[k]\n",
    "for k in range(n):\n",
    "    Z[m+k] = Y[k]"
   ]
  },
  {
   "cell_type": "code",
   "execution_count": 3,
   "metadata": {},
   "outputs": [
    {
     "name": "stdout",
     "output_type": "stream",
     "text": [
      "[1, 2, 3, 4, 5, 6]\n"
     ]
    }
   ],
   "source": [
    "print(Z)"
   ]
  },
  {
   "attachments": {},
   "cell_type": "markdown",
   "metadata": {},
   "source": [
    "### 問2 手続を実行した結果\n",
    "初期値設定"
   ]
  },
  {
   "cell_type": "code",
   "execution_count": 4,
   "metadata": {},
   "outputs": [],
   "source": [
    "x = 7\n",
    "y = 3"
   ]
  },
  {
   "attachments": {},
   "cell_type": "markdown",
   "metadata": {},
   "source": [
    "〔プログラム〕"
   ]
  },
  {
   "cell_type": "code",
   "execution_count": 5,
   "metadata": {},
   "outputs": [],
   "source": [
    "q = 0\n",
    "r = x\n",
    "while r >= y:\n",
    "    r = r - y\n",
    "    q = q + 1"
   ]
  },
  {
   "cell_type": "code",
   "execution_count": 6,
   "metadata": {},
   "outputs": [
    {
     "name": "stdout",
     "output_type": "stream",
     "text": [
      "2 1\n"
     ]
    }
   ],
   "source": [
    "print(q, r)"
   ]
  },
  {
   "attachments": {},
   "cell_type": "markdown",
   "metadata": {},
   "source": [
    "### 問3 画像を回転させる操作\n",
    "初期値設定"
   ]
  },
  {
   "cell_type": "code",
   "execution_count": 7,
   "metadata": {},
   "outputs": [],
   "source": [
    "# 図2の配列A\n",
    "A = [[' ', '*', '*', '*', '*', '*', '*', ' '],\n",
    "     [' ', '*', ' ', ' ', ' ', ' ', ' ', ' '],\n",
    "     [' ', '*', ' ', ' ', ' ', ' ', ' ', ' '],\n",
    "     [' ', '*', '*', '*', '*', ' ', ' ', ' '],\n",
    "     [' ', '*', ' ', ' ', ' ', ' ', ' ', ' '],\n",
    "     [' ', '*', ' ', ' ', ' ', ' ', ' ', ' '],\n",
    "     [' ', '*', ' ', ' ', ' ', ' ', ' ', ' '],\n",
    "     [' ', '*', ' ', ' ', ' ', ' ', ' ', ' ']]\n",
    "\n",
    "# 配列Bの初期状態（全て空白）\n",
    "B = [[' ', ' ', ' ', ' ', ' ', ' ', ' ', ' '],\n",
    "     [' ', ' ', ' ', ' ', ' ', ' ', ' ', ' '],\n",
    "     [' ', ' ', ' ', ' ', ' ', ' ', ' ', ' '],\n",
    "     [' ', ' ', ' ', ' ', ' ', ' ', ' ', ' '],\n",
    "     [' ', ' ', ' ', ' ', ' ', ' ', ' ', ' '],\n",
    "     [' ', ' ', ' ', ' ', ' ', ' ', ' ', ' '],\n",
    "     [' ', ' ', ' ', ' ', ' ', ' ', ' ', ' '],\n",
    "     [' ', ' ', ' ', ' ', ' ', ' ', ' ', ' ']]"
   ]
  },
  {
   "cell_type": "code",
   "execution_count": 8,
   "metadata": {},
   "outputs": [],
   "source": [
    "for i in range(8):\n",
    "    for j in range(8):\n",
    "        B[j][7-i] = A[i][j]"
   ]
  },
  {
   "attachments": {},
   "cell_type": "markdown",
   "metadata": {},
   "source": [
    "表示"
   ]
  },
  {
   "cell_type": "code",
   "execution_count": 9,
   "metadata": {},
   "outputs": [
    {
     "name": "stdout",
     "output_type": "stream",
     "text": [
      "[' ', ' ', ' ', ' ', ' ', ' ', ' ', ' ']\n",
      "['*', '*', '*', '*', '*', '*', '*', '*']\n",
      "[' ', ' ', ' ', ' ', '*', ' ', ' ', '*']\n",
      "[' ', ' ', ' ', ' ', '*', ' ', ' ', '*']\n",
      "[' ', ' ', ' ', ' ', '*', ' ', ' ', '*']\n",
      "[' ', ' ', ' ', ' ', ' ', ' ', ' ', '*']\n",
      "[' ', ' ', ' ', ' ', ' ', ' ', ' ', '*']\n",
      "[' ', ' ', ' ', ' ', ' ', ' ', ' ', ' ']\n"
     ]
    }
   ],
   "source": [
    "for i in range(8):\n",
    "    print(B[i])"
   ]
  },
  {
   "cell_type": "code",
   "execution_count": null,
   "metadata": {},
   "outputs": [],
   "source": []
  }
 ],
 "metadata": {
  "kernelspec": {
   "display_name": "Python 3",
   "language": "python",
   "name": "python3"
  },
  "language_info": {
   "codemirror_mode": {
    "name": "ipython",
    "version": 3
   },
   "file_extension": ".py",
   "mimetype": "text/x-python",
   "name": "python",
   "nbconvert_exporter": "python",
   "pygments_lexer": "ipython3",
   "version": "3.11.3"
  },
  "orig_nbformat": 4
 },
 "nbformat": 4,
 "nbformat_minor": 2
}
