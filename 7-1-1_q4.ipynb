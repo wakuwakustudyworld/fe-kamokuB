{
 "cells": [
  {
   "attachments": {},
   "cell_type": "markdown",
   "metadata": {},
   "source": [
    "## 7-1-1　予想問題\n",
    "### 問4\n",
    "　次のプログラム中の【　 　】に入れる正しい答えを，解答群の中から選べ。\n",
    "\n",
    "　関数quadraticは，実数a, b, 及びc（a≠0）を受け取り，二次方程式 $ax^2+bx+c=0$ の2つのxの解を返す。ここで，2次方程式の解の公式は，次のとおりである。\n",
    "\n",
    "$$x=\\frac{-b\\pm\\sqrt{b^2-4ac}}{2a}$$\n",
    "\n",
    "　関数quadraticが使う関数powは，第1引数として正の実数aを，第2引数として実数bを受け取り，aのb乗の値を実数型で返す。\n",
    "\n",
    "〔プログラム〕  \n",
    "※ Pythonでは，ルート（sqrt）を0.5乗（** 0.5）で表現できます。"
   ]
  },
  {
   "cell_type": "code",
   "execution_count": 1,
   "metadata": {},
   "outputs": [],
   "source": [
    "def quadratic(a : float, b : float, c : float):\n",
    "    sqrtPart = (b**2 - 4 * a * c) ** 0.5 # 右辺が空欄\n",
    "    return (-b + sqrtPart) / (2 * a), (-b - sqrtPart) / (2 * a)"
   ]
  },
  {
   "attachments": {},
   "cell_type": "markdown",
   "metadata": {},
   "source": [
    "テスト"
   ]
  },
  {
   "cell_type": "code",
   "execution_count": 2,
   "metadata": {},
   "outputs": [
    {
     "data": {
      "text/plain": [
       "(-1.0, -1.0)"
      ]
     },
     "execution_count": 2,
     "metadata": {},
     "output_type": "execute_result"
    }
   ],
   "source": [
    "quadratic(1, 2, 1)"
   ]
  },
  {
   "cell_type": "code",
   "execution_count": null,
   "metadata": {},
   "outputs": [],
   "source": []
  }
 ],
 "metadata": {
  "kernelspec": {
   "display_name": "base",
   "language": "python",
   "name": "python3"
  },
  "language_info": {
   "codemirror_mode": {
    "name": "ipython",
    "version": 3
   },
   "file_extension": ".py",
   "mimetype": "text/x-python",
   "name": "python",
   "nbconvert_exporter": "python",
   "pygments_lexer": "ipython3",
   "version": "3.8.5"
  },
  "orig_nbformat": 4
 },
 "nbformat": 4,
 "nbformat_minor": 2
}
