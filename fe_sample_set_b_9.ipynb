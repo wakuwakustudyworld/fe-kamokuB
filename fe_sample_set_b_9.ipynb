{
 "cells": [
  {
   "attachments": {},
   "cell_type": "markdown",
   "metadata": {},
   "source": [
    "## 基本情報技術者試験（科目B試験）サンプル問題セット\n",
    "### 問9\n",
    "次の記述中の 【　　　】 に入れる正しい答えを，解答群の中から選べ。ここで，配列の要素番号は1から始まる。\n",
    "\n",
    "手続orderは，図の2分木の，引数で指定した節を根とする部分木をたどりながら，全ての節番号を出力する。大域の配列treeが図の2分木を表している。配列treeの要素は，対応する節の子の節番号を，左の子，右の子の順に格納した配列である。例えば，配列treeの要素番号1の要素は，節番号1の子の節番号から成る配列であり，左の子の節番号2，右の子の節番号3を配列[2, 3]として格納する。\n",
    "　手続orderをorder(1)として呼び出すと，【　　　】 の順に出力される。\n",
    "\n",
    "(図は省略)\n",
    "\n",
    "※ Pythonでは，配列（リスト）の要素番号は1から始まるので，配列treeを少し変更\n",
    "\n",
    "〔プログラム〕"
   ]
  },
  {
   "cell_type": "code",
   "execution_count": 1,
   "metadata": {},
   "outputs": [],
   "source": [
    "tree = [[], [2, 3], [4, 5], [6, 7], [8, 9],\n",
    "        [10, 11], [12, 13], [14], [], [], [],\n",
    "        [], [], [], []] # []は要素数0の配列"
   ]
  },
  {
   "cell_type": "code",
   "execution_count": 2,
   "metadata": {},
   "outputs": [],
   "source": [
    "def order(n : int):\n",
    "    if len(tree[n]) == 2:\n",
    "        order(tree[n][0])\n",
    "        print(n, end=\", \")\n",
    "        order(tree[n][1])\n",
    "    elif len(tree[n]) == 1:\n",
    "        order(tree[n][0])\n",
    "        print(n, end=\", \")\n",
    "    else:\n",
    "        print(n, end=\", \")"
   ]
  },
  {
   "attachments": {},
   "cell_type": "markdown",
   "metadata": {},
   "source": [
    "実行結果"
   ]
  },
  {
   "cell_type": "code",
   "execution_count": 3,
   "metadata": {},
   "outputs": [
    {
     "name": "stdout",
     "output_type": "stream",
     "text": [
      "8, 4, 9, 2, 10, 5, 11, 1, 12, 6, 13, 3, 14, 7, "
     ]
    }
   ],
   "source": [
    "order(1)"
   ]
  },
  {
   "cell_type": "code",
   "execution_count": null,
   "metadata": {},
   "outputs": [],
   "source": []
  }
 ],
 "metadata": {
  "kernelspec": {
   "display_name": "Python 3",
   "language": "python",
   "name": "python3"
  },
  "language_info": {
   "codemirror_mode": {
    "name": "ipython",
    "version": 3
   },
   "file_extension": ".py",
   "mimetype": "text/x-python",
   "name": "python",
   "nbconvert_exporter": "python",
   "pygments_lexer": "ipython3",
   "version": "3.11.3"
  },
  "orig_nbformat": 4
 },
 "nbformat": 4,
 "nbformat_minor": 2
}
