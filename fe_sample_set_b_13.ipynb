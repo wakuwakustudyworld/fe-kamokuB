{
 "cells": [
  {
   "attachments": {},
   "cell_type": "markdown",
   "metadata": {},
   "source": [
    "## 基本情報技術者試験（科目B試験）サンプル問題セット\n",
    "### 問13\n",
    "次の記述中の 【　　　】 に入れる正しい答えを，解答群の中から選べ。ここで，配列の要素番号は1から始まる。\n",
    "\n",
    "関数searchは，引数dataで指定された配列に，引数targetで指定された値が含まれていればその要素番号を返し，含まれていなければ－1を返す。dataは昇順に整列されており，値に重複はない。  \n",
    "　関数searchには不具合がある。例えば，dataの 【　　　】 場合は，無限ループになる。\n",
    "\n",
    "〔プログラム〕  \n",
    "Pythonでは配列（リスト）の要素番号は0から始まるので，要素番号が1少なくなるように調整"
   ]
  },
  {
   "cell_type": "code",
   "execution_count": 1,
   "metadata": {},
   "outputs": [],
   "source": [
    "def search(data : list, target : int) -> int:\n",
    "    low = 0\n",
    "    high = len(data) - 1\n",
    "    while (low <= high):\n",
    "        middle = (low + high) // 2\n",
    "        if (data[middle] < target):\n",
    "            low = middle\n",
    "        elif (data[middle] > target):\n",
    "            high = middle\n",
    "        else:\n",
    "            return middle\n",
    "    return -1"
   ]
  },
  {
   "attachments": {},
   "cell_type": "markdown",
   "metadata": {},
   "source": [
    "### 解答群実行テスト  \n",
    "ア　要素数が1で，targetがその要素の値と等しい"
   ]
  },
  {
   "cell_type": "code",
   "execution_count": 2,
   "metadata": {},
   "outputs": [
    {
     "data": {
      "text/plain": [
       "0"
      ]
     },
     "execution_count": 2,
     "metadata": {},
     "output_type": "execute_result"
    }
   ],
   "source": [
    "search([1], 1) "
   ]
  },
  {
   "attachments": {},
   "cell_type": "markdown",
   "metadata": {},
   "source": [
    "イ　要素数が2で，targetがdataの先頭要素の値と等しい"
   ]
  },
  {
   "cell_type": "code",
   "execution_count": 3,
   "metadata": {},
   "outputs": [
    {
     "data": {
      "text/plain": [
       "0"
      ]
     },
     "execution_count": 3,
     "metadata": {},
     "output_type": "execute_result"
    }
   ],
   "source": [
    "search([1, 2], 1) "
   ]
  },
  {
   "attachments": {},
   "cell_type": "markdown",
   "metadata": {},
   "source": [
    "ウ　要素数が2で，targetがdataの末尾要素の値と等しい  \n",
    "注意：無限ループになるので，割り込みで中断する必要あり"
   ]
  },
  {
   "cell_type": "code",
   "execution_count": 4,
   "metadata": {},
   "outputs": [
    {
     "ename": "KeyboardInterrupt",
     "evalue": "",
     "output_type": "error",
     "traceback": [
      "\u001b[0;31m---------------------------------------------------------------------------\u001b[0m",
      "\u001b[0;31mKeyboardInterrupt\u001b[0m                         Traceback (most recent call last)",
      "Cell \u001b[0;32mIn[4], line 1\u001b[0m\n\u001b[0;32m----> 1\u001b[0m search([\u001b[39m1\u001b[39;49m, \u001b[39m2\u001b[39;49m], \u001b[39m2\u001b[39;49m) \n",
      "Cell \u001b[0;32mIn[1], line 4\u001b[0m, in \u001b[0;36msearch\u001b[0;34m(data, target)\u001b[0m\n\u001b[1;32m      2\u001b[0m low \u001b[39m=\u001b[39m \u001b[39m0\u001b[39m\n\u001b[1;32m      3\u001b[0m high \u001b[39m=\u001b[39m \u001b[39mlen\u001b[39m(data) \u001b[39m-\u001b[39m \u001b[39m1\u001b[39m\n\u001b[0;32m----> 4\u001b[0m \u001b[39mwhile\u001b[39;00m (low \u001b[39m<\u001b[39m\u001b[39m=\u001b[39m high):\n\u001b[1;32m      5\u001b[0m     middle \u001b[39m=\u001b[39m (low \u001b[39m+\u001b[39m high) \u001b[39m/\u001b[39m\u001b[39m/\u001b[39m \u001b[39m2\u001b[39m\n\u001b[1;32m      6\u001b[0m     \u001b[39mif\u001b[39;00m (data[middle] \u001b[39m<\u001b[39m target):\n",
      "\u001b[0;31mKeyboardInterrupt\u001b[0m: "
     ]
    }
   ],
   "source": [
    "search([1, 2], 2) "
   ]
  },
  {
   "attachments": {},
   "cell_type": "markdown",
   "metadata": {},
   "source": [
    "エ　要素に-1が含まれている"
   ]
  },
  {
   "cell_type": "code",
   "execution_count": 5,
   "metadata": {},
   "outputs": [
    {
     "data": {
      "text/plain": [
       "0"
      ]
     },
     "execution_count": 5,
     "metadata": {},
     "output_type": "execute_result"
    }
   ],
   "source": [
    "search([-1, 2], -1) "
   ]
  },
  {
   "cell_type": "code",
   "execution_count": null,
   "metadata": {},
   "outputs": [],
   "source": []
  }
 ],
 "metadata": {
  "kernelspec": {
   "display_name": "Python 3",
   "language": "python",
   "name": "python3"
  },
  "language_info": {
   "codemirror_mode": {
    "name": "ipython",
    "version": 3
   },
   "file_extension": ".py",
   "mimetype": "text/x-python",
   "name": "python",
   "nbconvert_exporter": "python",
   "pygments_lexer": "ipython3",
   "version": "3.11.3"
  },
  "orig_nbformat": 4
 },
 "nbformat": 4,
 "nbformat_minor": 2
}
