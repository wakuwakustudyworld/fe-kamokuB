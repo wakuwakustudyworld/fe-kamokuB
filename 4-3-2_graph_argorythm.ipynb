{
 "cells": [
  {
   "attachments": {},
   "cell_type": "markdown",
   "metadata": {},
   "source": [
    "## 4-3-2 グラフのアルゴリズム\n",
    "グラフのアルゴリズムには，木構造のデータを探索するアルゴリズムや，グラフの中の最短経路を探索するアルゴリズムなどがあります。\n",
    "\n",
    "### 幅優先探索\n",
    "●図 クラスQueue の説明 のクラスを作成"
   ]
  },
  {
   "cell_type": "code",
   "execution_count": 13,
   "metadata": {},
   "outputs": [],
   "source": [
    "class Queue:\n",
    "    def __init__(self):\n",
    "        self.items = []\n",
    "    def enqueue(self, item : str):\n",
    "        self.items.append(item)\n",
    "    def dequeue(self):\n",
    "        return self.items.pop(0)\n",
    "    def isEmpty(self):\n",
    "        return self.items == []"
   ]
  },
  {
   "attachments": {},
   "cell_type": "markdown",
   "metadata": {},
   "source": [
    "【例】幅優先探索の木を隣接リストedgeで表現"
   ]
  },
  {
   "cell_type": "code",
   "execution_count": 14,
   "metadata": {},
   "outputs": [],
   "source": [
    "edge = [[1], [2, 3], [4, 5],\n",
    "        [6, 7],[], [], [], [8]]"
   ]
  },
  {
   "attachments": {},
   "cell_type": "markdown",
   "metadata": {},
   "source": [
    "【例】キューを作成し，根を追加"
   ]
  },
  {
   "cell_type": "code",
   "execution_count": 15,
   "metadata": {},
   "outputs": [],
   "source": [
    "queue = Queue()\n",
    "queue.enqueue(edge[0][0])"
   ]
  },
  {
   "attachments": {},
   "cell_type": "markdown",
   "metadata": {},
   "source": [
    "【例】 エッジのあるノードを追加しながら表示"
   ]
  },
  {
   "cell_type": "code",
   "execution_count": 16,
   "metadata": {},
   "outputs": [
    {
     "name": "stdout",
     "output_type": "stream",
     "text": [
      "12345678"
     ]
    }
   ],
   "source": [
    "while queue.isEmpty() == False:\n",
    "    i = queue.dequeue()\n",
    "    print(i, end=\"\")\n",
    "    if i < len(edge):\n",
    "        for j in range(len(edge[i])):\n",
    "            queue.enqueue(edge[i][j])"
   ]
  },
  {
   "attachments": {},
   "cell_type": "markdown",
   "metadata": {},
   "source": [
    "### 深さ優先探索\n",
    "深さ優先探索の実装方法\n",
    "\n",
    "【例】ノードをリストで，エッジを隣接リストで定義"
   ]
  },
  {
   "cell_type": "code",
   "execution_count": 17,
   "metadata": {},
   "outputs": [],
   "source": [
    "node = [\"\", \"+\", \"×\", \"-\",\n",
    "        \"6\", \"2\", \"3\", \"1\"]\n",
    "edge = [[1], [2, 3],\n",
    "        [4, 5], [6, 7]]"
   ]
  },
  {
   "attachments": {},
   "cell_type": "markdown",
   "metadata": {},
   "source": [
    "【例】先行順で操作する場合の再帰関数deep_searchの定義"
   ]
  },
  {
   "cell_type": "code",
   "execution_count": 20,
   "metadata": {},
   "outputs": [],
   "source": [
    "def deep_search(i : int):\n",
    "    print(node[i], end=\" \")\n",
    "    if i < len(edge):\n",
    "        deep_search(edge[i][0]) # 左部分木を探索\n",
    "    if i < len(edge) and len(edge[i]) == 2:\n",
    "        deep_search(edge[i][1]) # 右部分木を探索"
   ]
  },
  {
   "attachments": {},
   "cell_type": "markdown",
   "metadata": {},
   "source": [
    "【例】再帰関数deep_searchに根の値を設定して呼び出す"
   ]
  },
  {
   "cell_type": "code",
   "execution_count": 21,
   "metadata": {},
   "outputs": [
    {
     "name": "stdout",
     "output_type": "stream",
     "text": [
      "+ × 6 2 - 3 1 "
     ]
    }
   ],
   "source": [
    "deep_search(edge[0][0])"
   ]
  },
  {
   "attachments": {},
   "cell_type": "markdown",
   "metadata": {},
   "source": [
    "【例】中間順で操作する場合の再帰関数deep_searchの定義"
   ]
  },
  {
   "cell_type": "code",
   "execution_count": 22,
   "metadata": {},
   "outputs": [],
   "source": [
    "def deep_search(i : int):\n",
    "    if i < len(edge):\n",
    "        deep_search(edge[i][0]) # 左部分木を探索\n",
    "    print(node[i], end=\" \")\n",
    "    if i < len(edge) and len(edge[i]) == 2:\n",
    "        deep_search(edge[i][1]) # 右部分木を探索"
   ]
  },
  {
   "attachments": {},
   "cell_type": "markdown",
   "metadata": {},
   "source": [
    "【例】中間順で走査を実行"
   ]
  },
  {
   "cell_type": "code",
   "execution_count": 23,
   "metadata": {},
   "outputs": [
    {
     "name": "stdout",
     "output_type": "stream",
     "text": [
      "6 × 2 + 3 - 1 "
     ]
    }
   ],
   "source": [
    "deep_search(edge[0][0])"
   ]
  },
  {
   "attachments": {},
   "cell_type": "markdown",
   "metadata": {},
   "source": [
    "【例】後行順で操作する場合の再帰関数deep_searchの定義"
   ]
  },
  {
   "cell_type": "code",
   "execution_count": 24,
   "metadata": {},
   "outputs": [],
   "source": [
    "def deep_search(i : int):\n",
    "    if i < len(edge):\n",
    "        deep_search(edge[i][0]) # 左部分木を探索\n",
    "    if i < len(edge) and len(edge[i]) == 2:\n",
    "        deep_search(edge[i][1]) # 右部分木を探索\n",
    "    print(node[i], end=\" \")"
   ]
  },
  {
   "attachments": {},
   "cell_type": "markdown",
   "metadata": {},
   "source": [
    "【例】後行順で走査を実行"
   ]
  },
  {
   "cell_type": "code",
   "execution_count": 25,
   "metadata": {},
   "outputs": [
    {
     "name": "stdout",
     "output_type": "stream",
     "text": [
      "6 2 × 3 1 - + "
     ]
    }
   ],
   "source": [
    "deep_search(edge[0][0])"
   ]
  },
  {
   "cell_type": "code",
   "execution_count": null,
   "metadata": {},
   "outputs": [],
   "source": []
  }
 ],
 "metadata": {
  "kernelspec": {
   "display_name": "Python 3",
   "language": "python",
   "name": "python3"
  },
  "language_info": {
   "codemirror_mode": {
    "name": "ipython",
    "version": 3
   },
   "file_extension": ".py",
   "mimetype": "text/x-python",
   "name": "python",
   "nbconvert_exporter": "python",
   "pygments_lexer": "ipython3",
   "version": "3.11.3"
  },
  "orig_nbformat": 4
 },
 "nbformat": 4,
 "nbformat_minor": 2
}
