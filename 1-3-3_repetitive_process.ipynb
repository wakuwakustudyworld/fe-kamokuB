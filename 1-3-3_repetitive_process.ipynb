{
 "cells": [
  {
   "attachments": {},
   "cell_type": "markdown",
   "metadata": {},
   "source": [
    "## 1-3-3 繰返し処理\n",
    "繰返し処理のプログラムでは，擬似言語ではwhile文，do〜while文やfor文を使用します。  \n",
    "Pythonにはdo〜while文は存在しないので，while文の無限ループと，break文の組合せで実現します。\n",
    "\n",
    "### while文の構造\n",
    "【例】while文の実行"
   ]
  },
  {
   "cell_type": "code",
   "execution_count": 1,
   "metadata": {},
   "outputs": [
    {
     "name": "stdout",
     "output_type": "stream",
     "text": [
      "1\n",
      "2\n",
      "3\n",
      "4\n"
     ]
    }
   ],
   "source": [
    "a : int = 1\n",
    "while a < 5:\n",
    "    print(a)\n",
    "    a = a + 1"
   ]
  },
  {
   "attachments": {},
   "cell_type": "markdown",
   "metadata": {},
   "source": [
    "### do〜while文\n",
    "Pythonにはdo〜while文は存在しないので，while文の無限ループと，break文の組合せで実現します。  \n",
    "このとき，while文の条件式は継続条件，break文は終了条件となります。  \n",
    "今回の場合，（a < 5）は継続条件，（a > 4）は終了条件となります。\n",
    "\n",
    "【例】do 〜while文の実行"
   ]
  },
  {
   "cell_type": "code",
   "execution_count": 1,
   "metadata": {},
   "outputs": [
    {
     "name": "stdout",
     "output_type": "stream",
     "text": [
      "1\n",
      "2\n",
      "3\n",
      "4\n"
     ]
    }
   ],
   "source": [
    "a : int = 1\n",
    "while True:\n",
    "    print(a)\n",
    "    a = a + 1\n",
    "    if a > 4:\n",
    "        break"
   ]
  },
  {
   "attachments": {},
   "cell_type": "markdown",
   "metadata": {},
   "source": [
    "【例】while文の実行 初期値5"
   ]
  },
  {
   "cell_type": "code",
   "execution_count": 2,
   "metadata": {},
   "outputs": [],
   "source": [
    "a : int = 5\n",
    "while a < 5:\n",
    "    print(a)\n",
    "    a = a + 1"
   ]
  },
  {
   "attachments": {},
   "cell_type": "markdown",
   "metadata": {},
   "source": [
    "【例】do 〜while文の実行 初期値5"
   ]
  },
  {
   "cell_type": "code",
   "execution_count": 3,
   "metadata": {},
   "outputs": [
    {
     "name": "stdout",
     "output_type": "stream",
     "text": [
      "5\n"
     ]
    }
   ],
   "source": [
    "a : int = 5\n",
    "while True:\n",
    "    print(a)\n",
    "    a = a + 1\n",
    "    if a > 4:\n",
    "        break"
   ]
  },
  {
   "attachments": {},
   "cell_type": "markdown",
   "metadata": {},
   "source": [
    "### for文\n",
    "Pythonではfor文で，「for 変数 in range(初期値，終値+1，増分)」の形で表現します。  \n",
    "擬似言語では「変数 を 初期値 から 終値 まで 増分 ずつ増やす」となります。  \n",
    "終値の値が異なるので，注意が必要です。\n",
    "\n",
    "【例】for文での繰返し処理"
   ]
  },
  {
   "cell_type": "code",
   "execution_count": 4,
   "metadata": {},
   "outputs": [
    {
     "name": "stdout",
     "output_type": "stream",
     "text": [
      "1 Hello\n",
      "2 Hello\n",
      "3 Hello\n"
     ]
    }
   ],
   "source": [
    "for i in range(1, 4, 1):\n",
    "    print(i, \"Hello\")"
   ]
  },
  {
   "attachments": {},
   "cell_type": "markdown",
   "metadata": {},
   "source": [
    "【例】配列の内容を表示するfor文  \n",
    "Pythonでは，配列の要素番号が0で始まります。そのため，配列の最後の要素番号は，「要素数-1」になります。  \n",
    "Pythonでは，配列の要素数は len(配列) として，配列の長さを求めることで得られます。"
   ]
  },
  {
   "cell_type": "code",
   "execution_count": 5,
   "metadata": {},
   "outputs": [
    {
     "name": "stdout",
     "output_type": "stream",
     "text": [
      "A\n",
      "B\n",
      "C\n"
     ]
    }
   ],
   "source": [
    "chr = [\"A\", \"B\", \"C\"]\n",
    "for i in range(0, len(chr), 1):\n",
    "    print(chr[i])"
   ]
  },
  {
   "attachments": {},
   "cell_type": "markdown",
   "metadata": {},
   "source": [
    "### 多重ループ"
   ]
  },
  {
   "cell_type": "code",
   "execution_count": 6,
   "metadata": {},
   "outputs": [
    {
     "name": "stdout",
     "output_type": "stream",
     "text": [
      "A 1\n",
      "A 2\n",
      "A 3\n",
      "B 1\n",
      "B 2\n",
      "B 3\n",
      "C 1\n",
      "C 2\n",
      "C 3\n"
     ]
    }
   ],
   "source": [
    "chr = [\"A\", \"B\", \"C\"]\n",
    "num = [1, 2, 3]\n",
    "for i in range(0, len(chr), 1):\n",
    "    for j in range(0, len(num), 1):\n",
    "        print(chr[i], num[j])"
   ]
  },
  {
   "cell_type": "code",
   "execution_count": null,
   "metadata": {},
   "outputs": [],
   "source": []
  }
 ],
 "metadata": {
  "kernelspec": {
   "display_name": "Python 3",
   "language": "python",
   "name": "python3"
  },
  "language_info": {
   "codemirror_mode": {
    "name": "ipython",
    "version": 3
   },
   "file_extension": ".py",
   "mimetype": "text/x-python",
   "name": "python",
   "nbconvert_exporter": "python",
   "pygments_lexer": "ipython3",
   "version": "3.11.3"
  },
  "orig_nbformat": 4
 },
 "nbformat": 4,
 "nbformat_minor": 2
}
