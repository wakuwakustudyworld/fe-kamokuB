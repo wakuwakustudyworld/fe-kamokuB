{
 "cells": [
  {
   "attachments": {},
   "cell_type": "markdown",
   "metadata": {},
   "source": [
    "## 基本情報技術者試験（科目B試験）サンプル問題セット\n",
    "### 問16\n",
    "次のプログラム中の 【　　　】 に入れる正しい答えを，解答群の中から選べ。二つの 【　　　】 には，同じ答えが入る。ここで，配列の要素番号は1から始まる。\n",
    "\n",
    "　Unicodeの符号位置を，UTF-8の符号に変換するプログラムである。本問で数値の後ろに（“ 16）”と記載した場合は，その数値が16進数であることを表す。  \n",
    "　Unicode の各文字には，符号位置と呼ばれる整数値が与えられている。UTF-8は，Unicodeの文字を符号化する方式の一つであり，符号位置が800（16）以上FFFF（16）以下の文字は，次のように3バイトの値に符号化する。  \n",
    "　3バイトの長さのビットパターンを 1110<u>xxxx</u> 10<u>xxxxxx</u> 10<u>xxxxxx</u> とする。ビットパターンの下線の付いた<u>x</u>” の箇所に，符号位置を2進数で表した値を右詰めで格納し，余った“<u>x</u>”の箇所に，0を格納する。この3バイトの値がUTF-8の符号である。  \n",
    "　例えば， ひらがなの“ あ” の符号位置である3042（16）を2 進数で表すと 11000001000010 である。これを，上に示したビットパターンの“<u>x</u>”の箇所に右詰めで格\n",
    "納すると，1110<u>xx11</u> 10<u>000001</u> 10<u>000010</u> となる。余った二つの“<u>x</u>”の箇所に0を格納すると，“あ”のUTF-8の符号 11100011 10000001 10000010 が得られる。  \n",
    "　関数encodeは，引数で渡されたUnicodeの符号位置をUTF-8の符号に変換し，先頭から順に1バイトずつ要素に格納した整数型の配列を返す。encodeには，引数として，800（16）以上FFFF（16）以下の整数値だけが渡されるものとする。\n",
    "\n",
    "〔プログラム〕  \n",
    "※Pythonでは，配列（リスト）の要素番号は0から始まるので，少し修正"
   ]
  },
  {
   "cell_type": "code",
   "execution_count": 1,
   "metadata": {},
   "outputs": [],
   "source": [
    "def encode(codePoint : int) -> list[int]:\n",
    "    utf8Bytes = [224, 128, 128]\n",
    "    # utf8Bytesの初期値は，ビットパターンの“x”を全て0に置き換え，\n",
    "    # 8桁ごとに区切って，それぞれを2進数とみなしたときの値\n",
    "    cp = codePoint\n",
    "    for i in range(len(utf8Bytes)-1, -1, -1):\n",
    "        utf8Bytes[i] = utf8Bytes[i] + cp % 64 # 最後の数値が空欄\n",
    "        cp = cp // 64 # 最後の数値が空欄\n",
    "    return utf8Bytes"
   ]
  },
  {
   "attachments": {},
   "cell_type": "markdown",
   "metadata": {},
   "source": [
    "問題文の例をテスト (\"あ\" 16進数で3042)"
   ]
  },
  {
   "cell_type": "code",
   "execution_count": 2,
   "metadata": {},
   "outputs": [
    {
     "name": "stdout",
     "output_type": "stream",
     "text": [
      "0b11100011\n",
      "0b10000001\n",
      "0b10000010\n"
     ]
    }
   ],
   "source": [
    "for value in encode(0x3042):\n",
    "    print(bin(value))"
   ]
  },
  {
   "cell_type": "code",
   "execution_count": null,
   "metadata": {},
   "outputs": [],
   "source": []
  }
 ],
 "metadata": {
  "kernelspec": {
   "display_name": "Python 3",
   "language": "python",
   "name": "python3"
  },
  "language_info": {
   "codemirror_mode": {
    "name": "ipython",
    "version": 3
   },
   "file_extension": ".py",
   "mimetype": "text/x-python",
   "name": "python",
   "nbconvert_exporter": "python",
   "pygments_lexer": "ipython3",
   "version": "3.11.3"
  },
  "orig_nbformat": 4
 },
 "nbformat": 4,
 "nbformat_minor": 2
}
