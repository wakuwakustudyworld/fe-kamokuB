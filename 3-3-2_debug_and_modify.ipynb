{
 "cells": [
  {
   "attachments": {},
   "cell_type": "markdown",
   "metadata": {},
   "source": [
    "## 3-3-2 デバッグと修正方法の検討\n",
    "\n",
    "### デバッグの例\n",
    "【例】関数fizzBuzz"
   ]
  },
  {
   "cell_type": "code",
   "execution_count": 2,
   "metadata": {},
   "outputs": [],
   "source": [
    "def fizzBuzz(num : int) -> str:\n",
    "    if num % 3 == 0:\n",
    "        result = \"Fizz\"\n",
    "    elif num % 5 == 0:\n",
    "        result = \"Buzz\"\n",
    "    elif num % 15 == 0:\n",
    "        result = \"Fizz Buzz\"\n",
    "    else:\n",
    "        result = str(num)\n",
    "    return result"
   ]
  },
  {
   "attachments": {},
   "cell_type": "markdown",
   "metadata": {},
   "source": [
    "【例】手続fizzBuzzTest"
   ]
  },
  {
   "cell_type": "code",
   "execution_count": 6,
   "metadata": {},
   "outputs": [],
   "source": [
    "def fizzBuzzTest():\n",
    "    print(fizzBuzz(1)) # 3でも5でも割り切れない値\n",
    "    print(fizzBuzz(3)) # 3で割り切れて5で割り切れない値\n",
    "    print(fizzBuzz(5)) # 3で割り切れないで5で割り切れる値\n",
    "    print(fizzBuzz(15)) # 3でも5でも割り切れる値"
   ]
  },
  {
   "cell_type": "code",
   "execution_count": 7,
   "metadata": {},
   "outputs": [
    {
     "name": "stdout",
     "output_type": "stream",
     "text": [
      "1\n",
      "Fizz\n",
      "Buzz\n",
      "Fizz\n"
     ]
    }
   ],
   "source": [
    "fizzBuzzTest()"
   ]
  },
  {
   "attachments": {},
   "cell_type": "markdown",
   "metadata": {},
   "source": [
    "【例】関数fizzBuzzのif文（修正後）  \n",
    "関数全部を掲載"
   ]
  },
  {
   "cell_type": "code",
   "execution_count": 8,
   "metadata": {},
   "outputs": [],
   "source": [
    "def fizzBuzz(num : int) -> str:\n",
    "    if num % 15 == 0:\n",
    "        result = \"Fizz Buzz\"\n",
    "    elif num % 3 == 0:\n",
    "        result = \"Fizz\"\n",
    "    elif num % 5 == 0:\n",
    "        result = \"Buzz\"\n",
    "    else:\n",
    "        result = str(num)\n",
    "    return result"
   ]
  },
  {
   "cell_type": "code",
   "execution_count": 9,
   "metadata": {},
   "outputs": [
    {
     "name": "stdout",
     "output_type": "stream",
     "text": [
      "1\n",
      "Fizz\n",
      "Buzz\n",
      "Fizz Buzz\n"
     ]
    }
   ],
   "source": [
    "fizzBuzzTest()"
   ]
  },
  {
   "attachments": {},
   "cell_type": "markdown",
   "metadata": {},
   "source": [
    "Fizz Buzzの正しい発言の例"
   ]
  },
  {
   "cell_type": "code",
   "execution_count": 10,
   "metadata": {},
   "outputs": [
    {
     "name": "stdout",
     "output_type": "stream",
     "text": [
      "A:1\n",
      "B:2\n",
      "A:Fizz\n",
      "B:4\n",
      "A:Buzz\n",
      "B:Fizz\n",
      "A:7\n",
      "B:8\n",
      "A:Fizz\n",
      "B:Buzz\n",
      "A:11\n",
      "B:Fizz\n",
      "A:13\n",
      "B:14\n",
      "A:Fizz Buzz\n"
     ]
    }
   ],
   "source": [
    "user = ['A', 'B']\n",
    "for n in range(1, 16):\n",
    "    print(user[(n+1)%2] + ':' + fizzBuzz(n))"
   ]
  },
  {
   "cell_type": "code",
   "execution_count": null,
   "metadata": {},
   "outputs": [],
   "source": []
  }
 ],
 "metadata": {
  "kernelspec": {
   "display_name": "Python 3",
   "language": "python",
   "name": "python3"
  },
  "language_info": {
   "codemirror_mode": {
    "name": "ipython",
    "version": 3
   },
   "file_extension": ".py",
   "mimetype": "text/x-python",
   "name": "python",
   "nbconvert_exporter": "python",
   "pygments_lexer": "ipython3",
   "version": "3.11.3"
  },
  "orig_nbformat": 4
 },
 "nbformat": 4,
 "nbformat_minor": 2
}
