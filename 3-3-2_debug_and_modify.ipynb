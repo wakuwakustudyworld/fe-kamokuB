{
 "cells": [
  {
   "attachments": {},
   "cell_type": "markdown",
   "metadata": {},
   "source": [
    "## 3-3-2 デバッグと修正方法の検討\n",
    "\n",
    "### デバッグの例\n",
    "【例】関数fizzBuzz"
   ]
  },
  {
   "cell_type": "code",
   "execution_count": 2,
   "metadata": {},
   "outputs": [],
   "source": [
    "def fizzBuzz(num : int) -> str:\n",
    "    if num % 3 == 0:\n",
    "        result = \"Fizz\"\n",
    "    elif num % 5 == 0:\n",
    "        result = \"Buzz\"\n",
    "    elif num % 15 == 0:\n",
    "        result = \"Fizz Buzz\"\n",
    "    else:\n",
    "        result = str(num)\n",
    "    return result"
   ]
  },
  {
   "attachments": {},
   "cell_type": "markdown",
   "metadata": {},
   "source": [
    "【例】手続fizzBuzzTest"
   ]
  },
  {
   "cell_type": "code",
   "execution_count": 3,
   "metadata": {},
   "outputs": [],
   "source": [
    "def fizzBuzzTest():\n",
    "    print(fizzBuzz(1)) # 3でも5でも割り切れない値\n",
    "    print(fizzBuzz(3)) # 3で割り切れて5で割り切れない値\n",
    "    print(fizzBuzz(5)) # 3で割り切れないで5で割り切れる値\n",
    "    print(fizzBuzz(15)) # 3でも5でも割り切れる値"
   ]
  },
  {
   "cell_type": "code",
   "execution_count": 4,
   "metadata": {},
   "outputs": [],
   "source": [
    "fizzBuzzTest()"
   ]
  },
  {
   "cell_type": "code",
   "execution_count": null,
   "metadata": {},
   "outputs": [],
   "source": []
  }
 ],
 "metadata": {
  "kernelspec": {
   "display_name": "Python 3",
   "language": "python",
   "name": "python3"
  },
  "language_info": {
   "codemirror_mode": {
    "name": "ipython",
    "version": 3
   },
   "file_extension": ".py",
   "mimetype": "text/x-python",
   "name": "python",
   "nbconvert_exporter": "python",
   "pygments_lexer": "ipython3",
   "version": "3.11.3"
  },
  "orig_nbformat": 4
 },
 "nbformat": 4,
 "nbformat_minor": 2
}
