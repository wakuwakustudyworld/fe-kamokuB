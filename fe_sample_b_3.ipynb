{
 "cells": [
  {
   "attachments": {},
   "cell_type": "markdown",
   "metadata": {},
   "source": [
    "## 基本情報技術者試験（科目B試験）サンプル問題\n",
    "### 問3\n",
    "　次のプログラム中の 【　a　】と【　b　】 に入れる正しい答えの組合せを，解答群の中から選べ。\n",
    "\n",
    "　手続appendは，引数で与えられた文字を単方向リストに追加する手続である。単方向リストの各要素は，クラスListElementを用いて表現する。クラスListElementの説明を図に示す。ListElement型の変数はクラスListElementのインスタンスの参照を格納するものとする。大域変数listHeadは，単方向リストの先頭の要素の参照を格納する。リストが空のときは，listHeadは未定義である。\n",
    "\n",
    "|メンバ変数|型|説明|\n",
    "|---|---|---|\n",
    "|val|文字型|リストに格納する文字。|\n",
    "|next|ListElement|リストの次の文字を保持するインスタンスの参照。初期状態は未定義である。|\n",
    "\n",
    "\n",
    "|コンストラクタ|説明|\n",
    "|---|---|\n",
    "|ListElement(文字型: qVal)|引数qValでメンバ変数valを初期化する。|\n",
    "\n",
    "* 図　クラスListElementの説明\n",
    "\n",
    "クラスListElementの定義"
   ]
  },
  {
   "cell_type": "code",
   "execution_count": 1,
   "metadata": {},
   "outputs": [],
   "source": [
    "class ListElement:\n",
    "    def __init__(self, qVal):\n",
    "        self.val = qVal\n",
    "        self.next = None"
   ]
  },
  {
   "attachments": {},
   "cell_type": "markdown",
   "metadata": {},
   "source": [
    "〔プログラム〕"
   ]
  },
  {
   "cell_type": "code",
   "execution_count": 2,
   "metadata": {},
   "outputs": [],
   "source": [
    "listHead = None"
   ]
  },
  {
   "cell_type": "code",
   "execution_count": 3,
   "metadata": {},
   "outputs": [],
   "source": [
    "def append(qVal : str):\n",
    "    global listHead   # Pythonでは関数内でグローバル変数を使う場合はglobal宣言が必要\n",
    "    curr = ListElement(qVal)\n",
    "    if listHead is None: # listHeadの条件式が空欄a\n",
    "        listHead = curr\n",
    "    else:\n",
    "        prev = listHead\n",
    "        while prev.next is not None:\n",
    "            prev = prev.next\n",
    "        prev.next = curr # prev.nextに代入する変数が空欄b"
   ]
  },
  {
   "attachments": {},
   "cell_type": "markdown",
   "metadata": {},
   "source": [
    "値を追加するテスト"
   ]
  },
  {
   "cell_type": "code",
   "execution_count": 4,
   "metadata": {},
   "outputs": [],
   "source": [
    "append(\"a\")"
   ]
  },
  {
   "cell_type": "code",
   "execution_count": 5,
   "metadata": {},
   "outputs": [
    {
     "name": "stdout",
     "output_type": "stream",
     "text": [
      "a\n"
     ]
    }
   ],
   "source": [
    "print(lisｔHead.val)"
   ]
  },
  {
   "cell_type": "code",
   "execution_count": null,
   "metadata": {},
   "outputs": [],
   "source": []
  }
 ],
 "metadata": {
  "kernelspec": {
   "display_name": "Python 3",
   "language": "python",
   "name": "python3"
  },
  "language_info": {
   "codemirror_mode": {
    "name": "ipython",
    "version": 3
   },
   "file_extension": ".py",
   "mimetype": "text/x-python",
   "name": "python",
   "nbconvert_exporter": "python",
   "pygments_lexer": "ipython3",
   "version": "3.11.4"
  },
  "orig_nbformat": 4
 },
 "nbformat": 4,
 "nbformat_minor": 2
}
