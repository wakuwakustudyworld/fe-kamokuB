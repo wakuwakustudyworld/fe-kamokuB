{
 "cells": [
  {
   "attachments": {},
   "cell_type": "markdown",
   "metadata": {},
   "source": [
    "## 4-1-2 データ構造の表現\n",
    "アルゴリズムで取り扱うデータ構造には，配列，スタック，キュー，リストなどの様々なデータ構造があります。基本情報技術者試験の擬似言語では，配列やクラス，ポインタなどを用いてデータ構造を表現します。\n",
    "\n",
    "### データ構造とクラス\n",
    "Pythonで，「●図 クラスQueue の説明」のクラスを作成します。"
   ]
  },
  {
   "cell_type": "code",
   "execution_count": 1,
   "metadata": {},
   "outputs": [],
   "source": [
    "class Queue:\n",
    "    def __init__(self):\n",
    "        self.items = []\n",
    "    def enqueue(self, item):\n",
    "        self.items.append(item)\n",
    "    def dequeue(self):\n",
    "        return self.items.pop(0)\n"
   ]
  },
  {
   "attachments": {},
   "cell_type": "markdown",
   "metadata": {},
   "source": [
    "【例】enqueue，dequeueを用いたキューの表現"
   ]
  },
  {
   "cell_type": "code",
   "execution_count": 2,
   "metadata": {},
   "outputs": [
    {
     "name": "stdout",
     "output_type": "stream",
     "text": [
      "A\n"
     ]
    }
   ],
   "source": [
    "queue = Queue()\n",
    "queue.enqueue(\"A\")\n",
    "queue.enqueue(\"B\")\n",
    "print(queue.dequeue())"
   ]
  },
  {
   "attachments": {},
   "cell_type": "markdown",
   "metadata": {},
   "source": [
    "【例】二次元配列での隣接行列の表現"
   ]
  },
  {
   "cell_type": "code",
   "execution_count": 3,
   "metadata": {},
   "outputs": [],
   "source": [
    "graph = [[0, 1, 1, 1], [1, 0, 1, 0],\n",
    "         [1, 1, 0, 0], [1, 0, 0, 0]]"
   ]
  },
  {
   "attachments": {},
   "cell_type": "markdown",
   "metadata": {},
   "source": [
    "【例】二次元配列での隣接リストの表現"
   ]
  },
  {
   "cell_type": "code",
   "execution_count": 4,
   "metadata": {},
   "outputs": [],
   "source": [
    "graph = [[\"B\", \"C\", \"D\"], [\"A\", \"C\"],\n",
    "         [\"A\", \"B\"],[\"A\"]]"
   ]
  },
  {
   "cell_type": "code",
   "execution_count": null,
   "metadata": {},
   "outputs": [],
   "source": []
  }
 ],
 "metadata": {
  "kernelspec": {
   "display_name": "Python 3",
   "language": "python",
   "name": "python3"
  },
  "language_info": {
   "codemirror_mode": {
    "name": "ipython",
    "version": 3
   },
   "file_extension": ".py",
   "mimetype": "text/x-python",
   "name": "python",
   "nbconvert_exporter": "python",
   "pygments_lexer": "ipython3",
   "version": "3.11.3"
  },
  "orig_nbformat": 4
 },
 "nbformat": 4,
 "nbformat_minor": 2
}
