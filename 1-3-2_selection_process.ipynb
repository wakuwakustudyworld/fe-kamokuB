{
 "cells": [
  {
   "attachments": {},
   "cell_type": "markdown",
   "metadata": {},
   "source": [
    "## 1-3-2 選択処理\n",
    "擬似言語でもPythonでも，選択型のプログラムはif文を用いて記述します。\n",
    "\n",
    "### if文の構造\n",
    "Pythonでは，if文の範囲を字下げで表現します。  \n",
    "条件式のカッコや，endif（終了記号）は必要ありません。  \n",
    "【例】選択処理"
   ]
  },
  {
   "cell_type": "code",
   "execution_count": 1,
   "metadata": {},
   "outputs": [
    {
     "name": "stdout",
     "output_type": "stream",
     "text": [
      "OK\n"
     ]
    }
   ],
   "source": [
    "a : int = 3\n",
    "if a > 0:\n",
    "    print(\"OK\")"
   ]
  },
  {
   "attachments": {},
   "cell_type": "markdown",
   "metadata": {},
   "source": [
    "【例】elseif  \n",
    "Pythonでは，「elseif」は「elif」となります。"
   ]
  },
  {
   "cell_type": "code",
   "execution_count": 2,
   "metadata": {},
   "outputs": [
    {
     "name": "stdout",
     "output_type": "stream",
     "text": [
      "たくさん\n"
     ]
    }
   ],
   "source": [
    "b : int = 3\n",
    "if b == 0:\n",
    "    print(\"ぜろ\")\n",
    "elif b == 1:\n",
    "    print(\"いち\")\n",
    "elif b == 2:\n",
    "    print(\"に\")\n",
    "else:\n",
    "    print(\"たくさん\")"
   ]
  },
  {
   "attachments": {},
   "cell_type": "markdown",
   "metadata": {},
   "source": [
    "### 複数の条件式を合わせた判定\n",
    "【例】 条件式の実行"
   ]
  },
  {
   "cell_type": "code",
   "execution_count": 3,
   "metadata": {},
   "outputs": [
    {
     "name": "stdout",
     "output_type": "stream",
     "text": [
      "おあ\n"
     ]
    }
   ],
   "source": [
    "a : int = 1\n",
    "b : int = 2\n",
    "if (a > 0 and b == 0):\n",
    "    print(\"あんど\")\n",
    "if (a > 0 or b == 0):\n",
    "    print(\"おあ\")\n",
    "if (not b == 2):\n",
    "    print(\"のっと\")"
   ]
  },
  {
   "cell_type": "code",
   "execution_count": null,
   "metadata": {},
   "outputs": [],
   "source": []
  }
 ],
 "metadata": {
  "kernelspec": {
   "display_name": "Python 3",
   "language": "python",
   "name": "python3"
  },
  "language_info": {
   "codemirror_mode": {
    "name": "ipython",
    "version": 3
   },
   "file_extension": ".py",
   "mimetype": "text/x-python",
   "name": "python",
   "nbconvert_exporter": "python",
   "pygments_lexer": "ipython3",
   "version": "3.11.3"
  },
  "orig_nbformat": 4
 },
 "nbformat": 4,
 "nbformat_minor": 2
}
