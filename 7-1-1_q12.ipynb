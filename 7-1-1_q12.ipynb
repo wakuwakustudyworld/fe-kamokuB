{
 "cells": [
  {
   "attachments": {},
   "cell_type": "markdown",
   "metadata": {},
   "source": [
    "## 7-1-1　予想問題\n",
    "### 問12\n",
    "次の記述中の【　 　】に入れる正しい答えを，解答群の中から選べ。ここで，配列の要素番号は1から始まる。\n",
    "\n",
    "　クイックソートとは，データをある基準値より小さい値と大きい値のグループに分割し，更にそれぞれのグループで基準値を選んで2つのグループに分割するという処理を繰り返してデータを整列するアルゴリズムである。\n",
    "　関数quickSortは，クイックソートを行う再帰関数である。分割のたびに基準値はグループ内の配列の左端の値とし，グループ内の配列の値の順番は元の配列と同じとする。\n",
    "\n",
    "　配列に格納されたデータdata = {2，3，5，4，1}に対して，クイックソートを用いて昇順に並べ替える。quickSort({2，3，5，4，1}, 1, 5)として関数を呼び出すこととする。\n",
    "　2回目のquickSortが呼び出された後，分割が終わったとき（3回目のquickSortが呼び出される前）の配列dataの状態は{【　 　】}である。\n",
    "\n",
    "〔プログラム〕"
   ]
  },
  {
   "cell_type": "code",
   "execution_count": 1,
   "metadata": {},
   "outputs": [],
   "source": [
    "def quickSort(data : list, left : int, right : int) -> list:\n",
    "    print(data) # 途中の状態を表示\n",
    "    pivot = data[left]\n",
    "    center : int = left\n",
    "    # 配列を分割\n",
    "    for i in range(left+1, right+1):\n",
    "        if data[i] < pivot:\n",
    "            data[center] = data[i]\n",
    "            center = center + 1\n",
    "            for j in range(right-1, center-1, -1):\n",
    "                data[j+1] = data[j]\n",
    "            data[center] = pivot\n",
    "    # 再帰関数で，部分列を整列\n",
    "    if ((center - left) >= 2):\n",
    "        quickSort(data, left, center-1)\n",
    "    if ((right - center) >= 2):\n",
    "        quickSort(data, center+1, right)\n",
    "    return data"
   ]
  },
  {
   "cell_type": "code",
   "execution_count": 2,
   "metadata": {},
   "outputs": [
    {
     "name": "stdout",
     "output_type": "stream",
     "text": [
      "[0, 2, 3, 5, 4, 1]\n",
      "[0, 1, 2, 3, 5, 4]\n",
      "[0, 1, 2, 3, 5, 4]\n"
     ]
    },
    {
     "data": {
      "text/plain": [
       "[0, 1, 2, 3, 4, 5]"
      ]
     },
     "execution_count": 2,
     "metadata": {},
     "output_type": "execute_result"
    }
   ],
   "source": [
    "data = [0, 2, 3, 5, 4, 1] # 要素番号0はダミー\n",
    "quickSort(data, 1, 5)"
   ]
  },
  {
   "cell_type": "code",
   "execution_count": null,
   "metadata": {},
   "outputs": [],
   "source": []
  }
 ],
 "metadata": {
  "kernelspec": {
   "display_name": "Python 3",
   "language": "python",
   "name": "python3"
  },
  "language_info": {
   "codemirror_mode": {
    "name": "ipython",
    "version": 3
   },
   "file_extension": ".py",
   "mimetype": "text/x-python",
   "name": "python",
   "nbconvert_exporter": "python",
   "pygments_lexer": "ipython3",
   "version": "3.11.3"
  },
  "orig_nbformat": 4
 },
 "nbformat": 4,
 "nbformat_minor": 2
}
