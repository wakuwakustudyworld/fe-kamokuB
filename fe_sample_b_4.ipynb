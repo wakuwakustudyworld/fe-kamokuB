{
 "cells": [
  {
   "attachments": {},
   "cell_type": "markdown",
   "metadata": {},
   "source": [
    "## 基本情報技術者試験（科目B試験）サンプル問題\n",
    "### 問4\n",
    "　次の記述中の 【　a　】〜【　c　】 に入れる正しい答えの組合せを，解答群の中から選べ。ここで，配列の要素番号は1から始まる。\n",
    "\n",
    "　要素の多くが0の行列を疎行列という。次のプログラムは，二次元配列に格納された行列のデータ量を削減するために，疎行列の格納に適したデータ構造に変換する。  \n",
    "　関数transformSparseMatrixは，引数matrixで二次元配列として与えられた行列を，整数型配列の配列に変換して返す。関数transformSparseMatrixをtransformSparseMatrix({{3, 0, 0, 0, 0}, {0, 2, 2, 0, 0}, {0, 0, 0, 1, 3}, {0, 0, 0, 2, 0}, {0, 0, 0, 0, 1}})として呼び出したときの戻り値は，{{【　a　】}, {【　b　】}, {【　c　】}}である。\n",
    "\n",
    "〔プログラム〕  \n",
    "※Pythonでは，配列（リスト）の要素番号は0から始まるので，少し修正\n"
   ]
  },
  {
   "cell_type": "code",
   "execution_count": 3,
   "metadata": {},
   "outputs": [],
   "source": [
    "def transformSparseMatrix(matrix):\n",
    "    sparseMatrix = [[], [], []]\n",
    "    for i in range(len(matrix)):\n",
    "        for j in range(len(matrix[i])):\n",
    "            if matrix[i][j] != 0:\n",
    "                sparseMatrix[0].append(i+1)\n",
    "                sparseMatrix[1].append(j+1)\n",
    "                sparseMatrix[2].append(matrix[i][j])\n",
    "    return sparseMatrix"
   ]
  },
  {
   "cell_type": "code",
   "execution_count": 4,
   "metadata": {},
   "outputs": [
    {
     "data": {
      "text/plain": [
       "[[1, 2, 2, 3, 3, 4, 5], [1, 2, 3, 4, 5, 4, 5], [3, 2, 2, 1, 3, 2, 1]]"
      ]
     },
     "execution_count": 4,
     "metadata": {},
     "output_type": "execute_result"
    }
   ],
   "source": [
    "transformSparseMatrix([[3, 0, 0, 0, 0], [0, 2, 2, 0, 0], [0, 0, 0, 1, 3], [0, 0, 0, 2, 0], [0, 0, 0, 0, 1]])"
   ]
  },
  {
   "cell_type": "code",
   "execution_count": null,
   "metadata": {},
   "outputs": [],
   "source": []
  }
 ],
 "metadata": {
  "kernelspec": {
   "display_name": "Python 3",
   "language": "python",
   "name": "python3"
  },
  "language_info": {
   "codemirror_mode": {
    "name": "ipython",
    "version": 3
   },
   "file_extension": ".py",
   "mimetype": "text/x-python",
   "name": "python",
   "nbconvert_exporter": "python",
   "pygments_lexer": "ipython3",
   "version": "3.11.3"
  },
  "orig_nbformat": 4
 },
 "nbformat": 4,
 "nbformat_minor": 2
}
