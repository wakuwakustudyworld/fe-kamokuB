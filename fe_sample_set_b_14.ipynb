{
 "cells": [
  {
   "attachments": {},
   "cell_type": "markdown",
   "metadata": {},
   "source": [
    "## 基本情報技術者試験（科目B試験）サンプル問題セット\n",
    "### 問14\n",
    "次の記述中の 【　　　】 に入れる正しい答えを，解答群の中から選べ。ここで，配列の要素番号は1から始まる。\n",
    "\n",
    "要素数が1以上で，昇順に整列済みの配列を基に，配列を特徴づける五つの値を返すプログラムである。  \n",
    "　関数summarizeをsummarize({0.1, 0.2, 0.3, 0.4, 0.5, 0.6, 0.7, 0.8, 0.9, 1})として呼び出すと，戻り値は 【　　　】 である。\n",
    "\n",
    "〔プログラム〕  \n",
    "Pythonでは配列（リスト）の要素番号は0から始まるので，findRankの戻り値の添字を i+1 -> i に変更"
   ]
  },
  {
   "cell_type": "code",
   "execution_count": 1,
   "metadata": {},
   "outputs": [],
   "source": [
    "import math\n",
    "\n",
    "def findRank(sortedData : list, p : float) -> float:\n",
    "    i = math.ceil(p * (len(sortedData) - 1)) # math.ceilで小数点以下を切り上げた値を求める\n",
    "    return sortedData[i]\n"
   ]
  },
  {
   "cell_type": "code",
   "execution_count": 2,
   "metadata": {},
   "outputs": [],
   "source": [
    "def summarize(sortedData : list) -> list:\n",
    "    rankData = []\n",
    "    p = [0, 0.25, 0.5, 0.75, 1]\n",
    "    for i in range(len(p)):\n",
    "        rankData.append(findRank(sortedData, p[i]))\n",
    "    return rankData"
   ]
  },
  {
   "cell_type": "code",
   "execution_count": 3,
   "metadata": {},
   "outputs": [
    {
     "data": {
      "text/plain": [
       "[0.1, 0.4, 0.6, 0.8, 1]"
      ]
     },
     "execution_count": 3,
     "metadata": {},
     "output_type": "execute_result"
    }
   ],
   "source": [
    "summarize([0.1, 0.2, 0.3, 0.4, 0.5, 0.6, 0.7, 0.8, 0.9, 1])"
   ]
  },
  {
   "cell_type": "code",
   "execution_count": null,
   "metadata": {},
   "outputs": [],
   "source": []
  }
 ],
 "metadata": {
  "kernelspec": {
   "display_name": "Python 3",
   "language": "python",
   "name": "python3"
  },
  "language_info": {
   "codemirror_mode": {
    "name": "ipython",
    "version": 3
   },
   "file_extension": ".py",
   "mimetype": "text/x-python",
   "name": "python",
   "nbconvert_exporter": "python",
   "pygments_lexer": "ipython3",
   "version": "3.11.3"
  },
  "orig_nbformat": 4
 },
 "nbformat": 4,
 "nbformat_minor": 2
}
