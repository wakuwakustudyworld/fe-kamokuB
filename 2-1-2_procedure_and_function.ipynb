{
 "cells": [
  {
   "attachments": {},
   "cell_type": "markdown",
   "metadata": {},
   "source": [
    "## 2-1-2 手続と関数\n",
    "手続も関数も，一連の処理の流れをまとめて記述したものです。Pythonでは，すべて関数として定義します。\n",
    "\n",
    "### 代入文手続と関数の利用目的\n",
    "【例】三角形の面積を計算する関数triangleArea"
   ]
  },
  {
   "cell_type": "code",
   "execution_count": 1,
   "metadata": {},
   "outputs": [],
   "source": [
    "def triangleArea(base : float, height : float) -> float:\n",
    "    area = base * height / 2\n",
    "    return area"
   ]
  },
  {
   "attachments": {},
   "cell_type": "markdown",
   "metadata": {},
   "source": [
    "【例】関数triangleAreaの実行"
   ]
  },
  {
   "cell_type": "code",
   "execution_count": 2,
   "metadata": {},
   "outputs": [
    {
     "name": "stdout",
     "output_type": "stream",
     "text": [
      "7.5\n"
     ]
    }
   ],
   "source": [
    "area = triangleArea(5.0, 3.0)\n",
    "print(area)"
   ]
  },
  {
   "attachments": {},
   "cell_type": "markdown",
   "metadata": {},
   "source": [
    "【例】文字列のリストを数値に変換して合計する関数sumArray  \n",
    "※Pythonでは，isDigit関数については，変数の型を判定するメソッドisdigit()として用意されています。intは，あらかじめ組み込み関数として用意されています。"
   ]
  },
  {
   "cell_type": "code",
   "execution_count": 3,
   "metadata": {},
   "outputs": [],
   "source": [
    "def sumArray(digitArray : str) -> int:\n",
    "    sumDigit : int = 0\n",
    "    for i in range(len(digitArray)):\n",
    "        if (digitArray[i].isdigit() == True):\n",
    "            sumDigit = sumDigit + int(digitArray[i])\n",
    "    return sumDigit"
   ]
  },
  {
   "attachments": {},
   "cell_type": "markdown",
   "metadata": {},
   "source": [
    "【例】関数sumArray(digitArray)の実行"
   ]
  },
  {
   "cell_type": "code",
   "execution_count": 4,
   "metadata": {},
   "outputs": [
    {
     "name": "stdout",
     "output_type": "stream",
     "text": [
      "5\n"
     ]
    }
   ],
   "source": [
    "digitArray : list = [\"1\", \"4\", \"a\"]\n",
    "gSumDigit : int = sumArray(digitArray)\n",
    "print(gSumDigit)"
   ]
  },
  {
   "attachments": {},
   "cell_type": "markdown",
   "metadata": {},
   "source": [
    "【例】大域変数 gVal  \n",
    "Pythonでは，大域変数の定義は不要です。しかし，関数内で大域変数を使用するときには，global 宣言が必要となります。"
   ]
  },
  {
   "cell_type": "code",
   "execution_count": 5,
   "metadata": {},
   "outputs": [],
   "source": [
    "gVal : int = 0\n",
    "\n",
    "def countUp(n: int):\n",
    "    global gVal\n",
    "    lVal : int = n\n",
    "    print(lVal)\n",
    "    gVal = gVal + n"
   ]
  },
  {
   "attachments": {},
   "cell_type": "markdown",
   "metadata": {},
   "source": [
    "【例】大域変数gValを使用する手続を実行"
   ]
  },
  {
   "cell_type": "code",
   "execution_count": 6,
   "metadata": {},
   "outputs": [
    {
     "name": "stdout",
     "output_type": "stream",
     "text": [
      "1\n",
      "2\n",
      "3\n",
      "6\n"
     ]
    }
   ],
   "source": [
    "countUp(1)\n",
    "countUp(2)\n",
    "countUp(3)\n",
    "print(gVal)"
   ]
  },
  {
   "cell_type": "code",
   "execution_count": null,
   "metadata": {},
   "outputs": [],
   "source": []
  }
 ],
 "metadata": {
  "kernelspec": {
   "display_name": "Python 3",
   "language": "python",
   "name": "python3"
  },
  "language_info": {
   "codemirror_mode": {
    "name": "ipython",
    "version": 3
   },
   "file_extension": ".py",
   "mimetype": "text/x-python",
   "name": "python",
   "nbconvert_exporter": "python",
   "pygments_lexer": "ipython3",
   "version": "3.11.3"
  },
  "orig_nbformat": 4
 },
 "nbformat": 4,
 "nbformat_minor": 2
}
