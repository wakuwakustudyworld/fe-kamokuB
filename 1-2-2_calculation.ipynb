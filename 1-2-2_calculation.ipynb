{
 "cells": [
  {
   "attachments": {},
   "cell_type": "markdown",
   "metadata": {},
   "source": [
    "## 1-2-2 演算\n",
    "演算には，算術演算，比較演算，論理演算，ビット演算などについて，Pythonプログラムを使って実行します。  \n",
    "計算結果は，print文で表示します。\n",
    "\n",
    "### 算術演算\n",
    "擬似言語では代入は「←」ですが，Pythonでは「=」を使用します。  \n",
    "Pythonでは，掛け算は「*」，整数のわり算は「//」，実数のわり算は「/」で表現します。  \n",
    "擬似言語ではわり算の余りは「mod」ですが，Pythonでは「%」を使用します。  "
   ]
  },
  {
   "cell_type": "code",
   "execution_count": 1,
   "metadata": {},
   "outputs": [
    {
     "name": "stdout",
     "output_type": "stream",
     "text": [
      "19\n"
     ]
    }
   ],
   "source": [
    "a = 3 * 5 + 8 // 2\n",
    "print(a)"
   ]
  },
  {
   "cell_type": "code",
   "execution_count": 2,
   "metadata": {},
   "outputs": [
    {
     "name": "stdout",
     "output_type": "stream",
     "text": [
      "1\n"
     ]
    }
   ],
   "source": [
    "a = 15 % 2\n",
    "print(a)"
   ]
  },
  {
   "attachments": {},
   "cell_type": "markdown",
   "metadata": {},
   "source": [
    "### 変数の値を比較するプログラム\n",
    "擬似言語の「=」，「≠」，「≦」，「≧」は，Pythonでは，「==」，「!=」，「<=」，「>=」となります。  \n",
    "擬似言語の「true」，「false」は，Pythonでは，「True」，「False」となります。"
   ]
  },
  {
   "cell_type": "code",
   "execution_count": 3,
   "metadata": {},
   "outputs": [],
   "source": [
    "a = 1\n",
    "b = 1\n",
    "c = 2"
   ]
  },
  {
   "cell_type": "code",
   "execution_count": 4,
   "metadata": {},
   "outputs": [
    {
     "name": "stdout",
     "output_type": "stream",
     "text": [
      "True\n",
      "False\n",
      "False\n",
      "True\n",
      "True\n",
      "True\n",
      "True\n",
      "False\n",
      "False\n",
      "True\n",
      "False\n",
      "False\n"
     ]
    }
   ],
   "source": [
    "print(a == b) # True\n",
    "print(a == c) # False\n",
    "print(a != b) # False\n",
    "print(a != c) # True\n",
    "print(a <= b) # True\n",
    "print(a <= c) # True\n",
    "print(a >= b) # True\n",
    "print(a >= c) # False\n",
    "print(a < b) # False\n",
    "print(a < c) # True\n",
    "print(a > b) # False\n",
    "print(a > c) # False"
   ]
  },
  {
   "attachments": {},
   "cell_type": "markdown",
   "metadata": {},
   "source": [
    "### 論理演算"
   ]
  },
  {
   "cell_type": "code",
   "execution_count": 5,
   "metadata": {},
   "outputs": [
    {
     "name": "stdout",
     "output_type": "stream",
     "text": [
      "False\n",
      "True\n",
      "False\n",
      "True\n",
      "False\n",
      "True\n"
     ]
    }
   ],
   "source": [
    "print((a == b) and (a == c)) # False\n",
    "print((a == b) or (a == c)) # True\n",
    "print(not (a == b)) # False\n",
    "print((a <= b) and (a != c)) # True\n",
    "print((a < b) or (a >= c)) # False\n",
    "print(not (a > b)) # True"
   ]
  },
  {
   "attachments": {},
   "cell_type": "markdown",
   "metadata": {},
   "source": [
    "### ビット演算\n",
    "ビット表記（2進数）は，Pythonでは頭に0bをつけて表現します。  \n",
    "擬似言語でのビットごとの論理積「∧」，論理和「∨」，排他的論理和「⊕」は，Pythonでは「&」，「|」，「^」となります。  \n",
    "数値は通常，10進数で表示されるので，2進数を表示する場合には，関数binを用います。"
   ]
  },
  {
   "cell_type": "code",
   "execution_count": 6,
   "metadata": {},
   "outputs": [],
   "source": [
    "a = 0b00001111\n",
    "b = 0b10101010"
   ]
  },
  {
   "cell_type": "code",
   "execution_count": 7,
   "metadata": {},
   "outputs": [
    {
     "name": "stdout",
     "output_type": "stream",
     "text": [
      "0b1010\n",
      "0b10101111\n",
      "0b10100101\n",
      "0b111100\n",
      "0b101010\n",
      "True\n"
     ]
    }
   ],
   "source": [
    "print(bin(a & b)) # 00001010\n",
    "print(bin(a | b)) # 10101111\n",
    "print(bin(a ^ b)) # 10100101\n",
    "print(bin(a << 2)) # 00111100\n",
    "print(bin(b >> 2)) # 00101010\n",
    "print(not (a > b)) # True"
   ]
  },
  {
   "cell_type": "code",
   "execution_count": null,
   "metadata": {},
   "outputs": [],
   "source": []
  }
 ],
 "metadata": {
  "kernelspec": {
   "display_name": "Python 3",
   "language": "python",
   "name": "python3"
  },
  "language_info": {
   "codemirror_mode": {
    "name": "ipython",
    "version": 3
   },
   "file_extension": ".py",
   "mimetype": "text/x-python",
   "name": "python",
   "nbconvert_exporter": "python",
   "pygments_lexer": "ipython3",
   "version": "3.11.3"
  },
  "orig_nbformat": 4
 },
 "nbformat": 4,
 "nbformat_minor": 2
}
