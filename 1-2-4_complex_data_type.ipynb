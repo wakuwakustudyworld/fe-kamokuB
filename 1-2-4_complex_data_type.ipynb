{
 "cells": [
  {
   "attachments": {},
   "cell_type": "markdown",
   "metadata": {},
   "source": [
    "## 1-2-4 応用データ型\n",
    "応用データ型は，様々なデータを扱うためのデータ型です。二次元配列や抽象データ型などは，複雑なデータを表現するこ\n",
    "とができます。\n",
    "\n",
    "### 未定義，未定義の値\n",
    "Pythonでは，未定義の値を None で表現します。"
   ]
  },
  {
   "cell_type": "code",
   "execution_count": null,
   "metadata": {},
   "outputs": [],
   "source": [
    "a = None"
   ]
  },
  {
   "attachments": {},
   "cell_type": "markdown",
   "metadata": {},
   "source": [
    "### 二次元配列\n",
    "Pythonでは，2次元リストを使用することで，二次元配列を表現できます。"
   ]
  },
  {
   "cell_type": "code",
   "execution_count": 1,
   "metadata": {},
   "outputs": [],
   "source": [
    "matrix = [[3, 0, 0, 0, 0], [0, 2, 2, 0, 0], [0, 0, 0, 1, 3],\n",
    "          [0, 0, 0, 2, 0], [0, 0, 0, 0, 1]]"
   ]
  },
  {
   "attachments": {},
   "cell_type": "markdown",
   "metadata": {},
   "source": [
    "Pythonでは，要素番号が0から始まるので，書籍とは指定の仕方が異なります。  \n",
    "また，Pythonでは，二次元配列を，変数名[行番号][列番号]のかたちで表現します。\n",
    "\n",
    "【例】二次元配列 matrix で行と列を指定して要素を取得"
   ]
  },
  {
   "cell_type": "code",
   "execution_count": 2,
   "metadata": {},
   "outputs": [
    {
     "name": "stdout",
     "output_type": "stream",
     "text": [
      "3\n",
      "2\n",
      "1\n",
      "0\n",
      "1\n"
     ]
    }
   ],
   "source": [
    "print(matrix[0][0]) # 1行目,1列目　値3\n",
    "print(matrix[1][2]) # 2行目,3列目　値2\n",
    "print(matrix[2][3]) # 3行目,4列目　値1\n",
    "print(matrix[3][1]) # 4行目,2列目　値0\n",
    "print(matrix[4][4]) # 5行目,5列目　値1"
   ]
  },
  {
   "attachments": {},
   "cell_type": "markdown",
   "metadata": {},
   "source": [
    "### 構造体とクラス\n",
    "【例】単方向リストを表すクラスListElementのメンバ変数  \n",
    "ListElementをクラスで宣言して，データを準備しておきます。"
   ]
  },
  {
   "cell_type": "code",
   "execution_count": 5,
   "metadata": {},
   "outputs": [],
   "source": [
    "class ListElement:\n",
    "    def __init__(self, value, next=None):\n",
    "        self.value = value\n",
    "        self.next = next"
   ]
  },
  {
   "cell_type": "code",
   "execution_count": 4,
   "metadata": {},
   "outputs": [],
   "source": [
    "data1, data2, data3 = 1, 2, 3 # 3つの変数に値を代入"
   ]
  },
  {
   "attachments": {},
   "cell_type": "markdown",
   "metadata": {},
   "source": [
    "* 単方向リスト  \n",
    "変数（インスタンス）を用意し，値を設定します。  \n",
    "Pythonでは，型宣言だけ行うことはできないので，初期化で値を設定します。"
   ]
  },
  {
   "cell_type": "code",
   "execution_count": 6,
   "metadata": {},
   "outputs": [],
   "source": [
    "element1 = ListElement(data1) # 1つ目の要素を作成\n",
    "element2 = ListElement(data2) # 2つ目の要素を作成\n",
    "element3 = ListElement(data3) # 3つ目の要素を作成"
   ]
  },
  {
   "attachments": {},
   "cell_type": "markdown",
   "metadata": {},
   "source": [
    "### 抽象データ型\n",
    "単方向リストの順番を定義します"
   ]
  },
  {
   "cell_type": "code",
   "execution_count": 7,
   "metadata": {},
   "outputs": [],
   "source": [
    "element1.next = element2 # 1つ目の要素の次の要素に2つ目の要素を設定\n",
    "element2.next = element3 # 2つ目の要素の次の要素に3つ目の要素を設定\n",
    "element3.next = None # 3つ目の要素の次の要素にNoneを設定"
   ]
  },
  {
   "cell_type": "code",
   "execution_count": null,
   "metadata": {},
   "outputs": [],
   "source": []
  }
 ],
 "metadata": {
  "kernelspec": {
   "display_name": "Python 3",
   "language": "python",
   "name": "python3"
  },
  "language_info": {
   "codemirror_mode": {
    "name": "ipython",
    "version": 3
   },
   "file_extension": ".py",
   "mimetype": "text/x-python",
   "name": "python",
   "nbconvert_exporter": "python",
   "pygments_lexer": "ipython3",
   "version": "3.11.3"
  },
  "orig_nbformat": 4
 },
 "nbformat": 4,
 "nbformat_minor": 2
}
