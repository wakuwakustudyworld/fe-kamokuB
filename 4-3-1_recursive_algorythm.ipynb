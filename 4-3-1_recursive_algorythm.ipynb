{
 "cells": [
  {
   "attachments": {},
   "cell_type": "markdown",
   "metadata": {},
   "source": [
    "## 4-3-1 再帰のアルゴリズム\n",
    "再帰とは，再び帰る，つまり，自分自身をもう一度呼び出すようなアルゴリズムです。\n",
    "\n",
    "### 再帰の書き方\n",
    "【例】再帰関数f"
   ]
  },
  {
   "cell_type": "code",
   "execution_count": 1,
   "metadata": {},
   "outputs": [],
   "source": [
    "def f(n : int) -> int:\n",
    "    if n <= 1:\n",
    "        return n\n",
    "    else:\n",
    "        return n + f(n-1)"
   ]
  },
  {
   "attachments": {},
   "cell_type": "markdown",
   "metadata": {},
   "source": [
    "【例】再帰関数f の実行"
   ]
  },
  {
   "cell_type": "code",
   "execution_count": 2,
   "metadata": {},
   "outputs": [
    {
     "name": "stdout",
     "output_type": "stream",
     "text": [
      "15\n"
     ]
    }
   ],
   "source": [
    "print(f(5))"
   ]
  },
  {
   "attachments": {},
   "cell_type": "markdown",
   "metadata": {},
   "source": [
    "### 再帰の例\n",
    "再帰を使ったクイックソート\n",
    "\n",
    "【例】再帰を用いてクイックソートを行う関数sort"
   ]
  },
  {
   "cell_type": "code",
   "execution_count": 3,
   "metadata": {},
   "outputs": [],
   "source": [
    "def sort(data):\n",
    "    left = []\n",
    "    right = []\n",
    "    middle = []\n",
    "    pivot = data[len(data) // 2]\n",
    "    # 3つのグループleft, right, middleに分割\n",
    "    for i in range(len(data)):\n",
    "        if data[i] < pivot:\n",
    "            left.append(data[i])\n",
    "        elif data[i] > pivot:\n",
    "            right.append(data[i])\n",
    "        else:\n",
    "            middle.append(data[i])\n",
    "    # 再帰関数で，部分列を整列\n",
    "    if len(left) >= 1:\n",
    "        left = sort(left)\n",
    "    if len(right) >= 1:\n",
    "        right = sort(right)\n",
    "    data = left + middle + right  # 3つの配列を連結させる\n",
    "    return data"
   ]
  },
  {
   "attachments": {},
   "cell_type": "markdown",
   "metadata": {},
   "source": [
    "動作テスト（4-2-3と同じ）"
   ]
  },
  {
   "cell_type": "code",
   "execution_count": 4,
   "metadata": {},
   "outputs": [
    {
     "name": "stdout",
     "output_type": "stream",
     "text": [
      "[1, 1, 2, 2, 3, 4, 5]\n"
     ]
    }
   ],
   "source": [
    "data = [1, 3, 2, 5, 4, 2, 1]\n",
    "print(sort(data))"
   ]
  },
  {
   "attachments": {},
   "cell_type": "markdown",
   "metadata": {},
   "source": [
    "再帰を使ったマージソート\n",
    "\n",
    "【例】再帰を用いてマージソートを行う関数sort"
   ]
  },
  {
   "cell_type": "code",
   "execution_count": 5,
   "metadata": {},
   "outputs": [],
   "source": [
    "def sort(data):\n",
    "    if len(data) <= 1: # 長さが1以下の場合は分割できないので終了\n",
    "        return data\n",
    "    merge = []\n",
    "    l : int = 0\n",
    "    r : int = 0\n",
    "    mid : int = len(data) // 2\n",
    "    # 分割操作\n",
    "    left = data[0:mid]\n",
    "    right = data[mid:len(data)]\n",
    "    # 再帰関数で，部分列を整列\n",
    "    left = sort(left)\n",
    "    right = sort(right)\n",
    "    # 結合操作\n",
    "    while l < len(left) and r < len(right):\n",
    "        if left[l] <= right[r]:\n",
    "            merge.append(left[l])\n",
    "            l = l + 1\n",
    "        else:\n",
    "            merge.append(right[r])\n",
    "            r = r + 1\n",
    "    if l < len(left):\n",
    "        merge = merge + left[l:len(left)]\n",
    "    elif r < len(right):\n",
    "        merge = merge + right[r:len(right)]\n",
    "    data = merge\n",
    "    return data"
   ]
  },
  {
   "cell_type": "code",
   "execution_count": 6,
   "metadata": {},
   "outputs": [
    {
     "name": "stdout",
     "output_type": "stream",
     "text": [
      "[1, 1, 2, 2, 3, 4, 5]\n"
     ]
    }
   ],
   "source": [
    "data = [1, 3, 2, 5, 4, 2, 1]\n",
    "print(sort(data))"
   ]
  },
  {
   "cell_type": "code",
   "execution_count": null,
   "metadata": {},
   "outputs": [],
   "source": []
  }
 ],
 "metadata": {
  "kernelspec": {
   "display_name": "Python 3",
   "language": "python",
   "name": "python3"
  },
  "language_info": {
   "codemirror_mode": {
    "name": "ipython",
    "version": 3
   },
   "file_extension": ".py",
   "mimetype": "text/x-python",
   "name": "python",
   "nbconvert_exporter": "python",
   "pygments_lexer": "ipython3",
   "version": "3.11.3"
  },
  "orig_nbformat": 4
 },
 "nbformat": 4,
 "nbformat_minor": 2
}
