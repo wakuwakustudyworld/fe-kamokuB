{
 "cells": [
  {
   "attachments": {},
   "cell_type": "markdown",
   "metadata": {},
   "source": [
    "## 4-3-3 その他のアルゴリズム\n",
    "アルゴリズムには，文字列処理やその他の様々な分野で使われるものがあり，効率的なアルゴリズムもいろいろと考案されています。問題の解決に最適なアルゴリズムを選ぶことが大切です。\n",
    "\n",
    "### 文字列処理のアルゴリズム\n",
    "1. 単純な照合方法\n",
    "\n",
    "【例】単純な照合方法による文字列探索の関数search1"
   ]
  },
  {
   "cell_type": "code",
   "execution_count": 1,
   "metadata": {},
   "outputs": [],
   "source": [
    "def search1(text, pattern):\n",
    "    for i in range(len(text)):\n",
    "        for j in range(len(pattern)):\n",
    "            if text[i+j] == pattern[j]:\n",
    "                if j == len(pattern) - 1:\n",
    "                    return i\n",
    "            else:\n",
    "                break\n",
    "    return -1"
   ]
  },
  {
   "attachments": {},
   "cell_type": "markdown",
   "metadata": {},
   "source": [
    "テスト"
   ]
  },
  {
   "cell_type": "code",
   "execution_count": 2,
   "metadata": {},
   "outputs": [
    {
     "data": {
      "text/plain": [
       "5"
      ]
     },
     "execution_count": 2,
     "metadata": {},
     "output_type": "execute_result"
    }
   ],
   "source": [
    "text = 'ACBBMACABABC'\n",
    "pattern = 'ACAB'\n",
    "\n",
    "search1(text, pattern)"
   ]
  },
  {
   "attachments": {},
   "cell_type": "markdown",
   "metadata": {},
   "source": [
    "2. BM（Boyer Moore）法\n",
    "\n",
    "【例】BM法による文字列探索の関数search2"
   ]
  },
  {
   "cell_type": "code",
   "execution_count": 3,
   "metadata": {},
   "outputs": [],
   "source": [
    "def search2(text, pattern):\n",
    "    skip_dic = dict()                              # スキップ数（辞書形式）の作成\n",
    "    for i, character in enumerate(pattern[:-1]):\n",
    "        skip_dic[character] = len(pattern) - i - 1\n",
    "    i = 0                                          # 文字の比較\n",
    "    while i < len(text) - len(pattern) + 1:        # 修正 + 1を追加（最後尾までチェック）\n",
    "        for j in range(len(pattern)):\n",
    "            if text[i+j] == pattern[j]:\n",
    "                if j == len(pattern) - 1:\n",
    "                    return i\n",
    "            else:\n",
    "                break\n",
    "        if text[i+len(pattern)-1] not in skip_dic:    # スキップ数の決定 修正\n",
    "            skip = len(pattern)\n",
    "        else:\n",
    "            skip = skip_dic[text[i+len(pattern)-1]]\n",
    "        i += skip\n",
    "    return -1"
   ]
  },
  {
   "cell_type": "code",
   "execution_count": 4,
   "metadata": {},
   "outputs": [
    {
     "data": {
      "text/plain": [
       "5"
      ]
     },
     "execution_count": 4,
     "metadata": {},
     "output_type": "execute_result"
    }
   ],
   "source": [
    "search2(text, pattern)"
   ]
  },
  {
   "attachments": {},
   "cell_type": "markdown",
   "metadata": {},
   "source": [
    "### 最大公約数を求めるアルゴリズム\n",
    "【例】ユークリッドの互除法で最大公約数を求める関数gcd"
   ]
  },
  {
   "cell_type": "code",
   "execution_count": 5,
   "metadata": {},
   "outputs": [],
   "source": [
    "def gcd(a : int, b : int) -> int:\n",
    "    if a < b:\n",
    "        tmp = a\n",
    "        a = b\n",
    "        b = tmp\n",
    "    r = a % b\n",
    "    while r != 0:\n",
    "        a = b\n",
    "        b = r\n",
    "        r = a % b\n",
    "    return b"
   ]
  },
  {
   "cell_type": "code",
   "execution_count": 6,
   "metadata": {},
   "outputs": [
    {
     "data": {
      "text/plain": [
       "6"
      ]
     },
     "execution_count": 6,
     "metadata": {},
     "output_type": "execute_result"
    }
   ],
   "source": [
    "gcd(12, 18)"
   ]
  },
  {
   "cell_type": "code",
   "execution_count": null,
   "metadata": {},
   "outputs": [],
   "source": []
  }
 ],
 "metadata": {
  "kernelspec": {
   "display_name": "Python 3",
   "language": "python",
   "name": "python3"
  },
  "language_info": {
   "codemirror_mode": {
    "name": "ipython",
    "version": 3
   },
   "file_extension": ".py",
   "mimetype": "text/x-python",
   "name": "python",
   "nbconvert_exporter": "python",
   "pygments_lexer": "ipython3",
   "version": "3.11.3"
  },
  "orig_nbformat": 4
 },
 "nbformat": 4,
 "nbformat_minor": 2
}
