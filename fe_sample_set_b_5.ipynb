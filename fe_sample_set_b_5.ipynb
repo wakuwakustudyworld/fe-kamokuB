{
 "cells": [
  {
   "attachments": {},
   "cell_type": "markdown",
   "metadata": {},
   "source": [
    "## 基本情報技術者試験（科目B試験）サンプル問題セット\n",
    "### 問5\n",
    "次のプログラム中の 【　　　】 に入れる正しい答えを，解答群の中から選べ。\n",
    "\n",
    "関数calcは，正の実数xとyを受け取り，$\\sqrt{x^2＋y^2}$ の計算結果を返す。関数calcが使う関数powは，第1引数として正の実数aを，第2引数として実数bを受け取り，aのb乗の値を実数型で返す。\n",
    "\n",
    "〔プログラム〕"
   ]
  },
  {
   "cell_type": "code",
   "execution_count": 1,
   "metadata": {},
   "outputs": [],
   "source": [
    "def calc(x : float, y : float) -> float:\n",
    "    return pow(pow(x, 2) + pow(y, 2), 0.5) # 空欄はreturnの後全部"
   ]
  },
  {
   "attachments": {},
   "cell_type": "markdown",
   "metadata": {},
   "source": [
    "### 解答群の選択肢 (Python文法で変換済み)\n",
    "ア　(pow(x, 2) + pow(y, 2)) / pow(2, 0.5)  \n",
    "イ　(pow(x, 2) + pow(y, 2)) / pow(x, y)  \n",
    "ウ　pow(2, pow(x, 0.5)) + pow(2, pow(y, 0.5))  \n",
    "エ　pow(pow(pow(2, x), y), 0.5)  \n",
    "オ　pow(pow(x, 2) + pow(y, 2), 0.5)  \n",
    "カ　pow(x, 2) * pow(y, 2) / pow(x, y)  \n",
    "キ　pow(x, y) / pow(2, 0.5)\n",
    "\n",
    "### 実行例"
   ]
  },
  {
   "cell_type": "code",
   "execution_count": 2,
   "metadata": {},
   "outputs": [
    {
     "data": {
      "text/plain": [
       "5.0"
      ]
     },
     "execution_count": 2,
     "metadata": {},
     "output_type": "execute_result"
    }
   ],
   "source": [
    "calc(3, 4)"
   ]
  },
  {
   "cell_type": "code",
   "execution_count": null,
   "metadata": {},
   "outputs": [],
   "source": []
  }
 ],
 "metadata": {
  "kernelspec": {
   "display_name": "Python 3",
   "language": "python",
   "name": "python3"
  },
  "language_info": {
   "codemirror_mode": {
    "name": "ipython",
    "version": 3
   },
   "file_extension": ".py",
   "mimetype": "text/x-python",
   "name": "python",
   "nbconvert_exporter": "python",
   "pygments_lexer": "ipython3",
   "version": "3.11.3"
  },
  "orig_nbformat": 4
 },
 "nbformat": 4,
 "nbformat_minor": 2
}
