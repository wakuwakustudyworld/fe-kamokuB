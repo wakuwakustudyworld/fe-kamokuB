{
 "cells": [
  {
   "attachments": {},
   "cell_type": "markdown",
   "metadata": {},
   "source": [
    "## 3-1-2 既存のプログラムの変更\n",
    "「3-1-1　既存のプログラムを読むこと」の最大値を求めるプログラムも合わせて，こちらのノートブックで掲載  \n",
    "Pythonでは，配列（リスト）の要素番号は0から始まるので，初期値などを少し変更します。\n",
    "\n",
    "〔プログラム〕(8-1-1)\n",
    "\n"
   ]
  },
  {
   "cell_type": "code",
   "execution_count": 1,
   "metadata": {},
   "outputs": [],
   "source": [
    "def findMax(array : list)  -> int:\n",
    "    maxPos : int = 0\n",
    "    for i in range(1, len(array)):\n",
    "        if array[i] > array[maxPos]:\n",
    "            maxPos = i\n",
    "    return maxPos"
   ]
  },
  {
   "attachments": {},
   "cell_type": "markdown",
   "metadata": {},
   "source": [
    "### トレース\n",
    "例の引数で試してみる"
   ]
  },
  {
   "cell_type": "code",
   "execution_count": 2,
   "metadata": {},
   "outputs": [
    {
     "name": "stdout",
     "output_type": "stream",
     "text": [
      "2\n"
     ]
    }
   ],
   "source": [
    "array = [3.5, 2.5, 4.2, 1.8, 0.4]\n",
    "\n",
    "print(findMax(array))"
   ]
  },
  {
   "attachments": {},
   "cell_type": "markdown",
   "metadata": {},
   "source": [
    "### 最大値プログラムを最小値に変更\n",
    "〔最小値を求めるプログラム1〕"
   ]
  },
  {
   "cell_type": "code",
   "execution_count": 3,
   "metadata": {},
   "outputs": [],
   "source": [
    "def findMax(array : list)  -> int:\n",
    "    maxPos : int = 0\n",
    "    for i in range(1, len(array)):\n",
    "        if array[i] < array[maxPos]:\n",
    "            maxPos = i\n",
    "    return maxPos"
   ]
  },
  {
   "attachments": {},
   "cell_type": "markdown",
   "metadata": {},
   "source": [
    "〔最小値を求めるプログラム2〕"
   ]
  },
  {
   "cell_type": "code",
   "execution_count": 4,
   "metadata": {},
   "outputs": [],
   "source": [
    "def findMin(array : list)  -> int:\n",
    "    minPos : int = 0\n",
    "    for i in range(1, len(array)):\n",
    "        if array[i] < array[minPos]:\n",
    "            minPos = i\n",
    "    return minPos"
   ]
  },
  {
   "attachments": {},
   "cell_type": "markdown",
   "metadata": {},
   "source": [
    "例の引数で試してみる"
   ]
  },
  {
   "cell_type": "code",
   "execution_count": 5,
   "metadata": {},
   "outputs": [
    {
     "name": "stdout",
     "output_type": "stream",
     "text": [
      "0\n"
     ]
    }
   ],
   "source": [
    "array = [0.4, 0.4, 4.2, 1.8, 3.5]\n",
    "\n",
    "print(findMin(array))"
   ]
  },
  {
   "attachments": {},
   "cell_type": "markdown",
   "metadata": {},
   "source": [
    "より小さいを以下に変更した例"
   ]
  },
  {
   "cell_type": "code",
   "execution_count": 6,
   "metadata": {},
   "outputs": [],
   "source": [
    "def findMin(array : list)  -> int:\n",
    "    minPos : int = 0\n",
    "    for i in range(1, len(array)):\n",
    "        if array[i] <= array[minPos]:\n",
    "            minPos = i\n",
    "    return minPos"
   ]
  },
  {
   "cell_type": "code",
   "execution_count": null,
   "metadata": {},
   "outputs": [],
   "source": []
  }
 ],
 "metadata": {
  "kernelspec": {
   "display_name": "Python 3",
   "language": "python",
   "name": "python3"
  },
  "language_info": {
   "codemirror_mode": {
    "name": "ipython",
    "version": 3
   },
   "file_extension": ".py",
   "mimetype": "text/x-python",
   "name": "python",
   "nbconvert_exporter": "python",
   "pygments_lexer": "ipython3",
   "version": "3.11.3"
  },
  "orig_nbformat": 4
 },
 "nbformat": 4,
 "nbformat_minor": 2
}
