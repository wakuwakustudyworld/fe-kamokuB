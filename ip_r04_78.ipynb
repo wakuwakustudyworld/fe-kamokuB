{
 "cells": [
  {
   "attachments": {},
   "cell_type": "markdown",
   "metadata": {},
   "source": [
    "## ITパスポート試験　令和4年度\n",
    "### 問78\n",
    "　関数checkDigitは，10進9桁の整数の各桁の数字が上位の桁から順に格納された整数型の配列originalDigitを引数として，次の手順で計算したチェックデジットを戻り値とする。プログラム中のaに入れる字句として，適切なものはどれか。ここで，配列の要素番号は1から始まる。\n",
    "\n",
    "〔手順〕\n",
    "* （1）配列originalDigitの要素番号1 ～ 9の要素の値を合計する。\n",
    "* （2） 合計した値が9より大きい場合は，合計した値を10進の整数で表現したときの各桁の数字を合計する。この操作を，合計した値が9以下になるまで繰り返す。\n",
    "* （3）（2）で得られた値をチェックデジットとする。\n",
    "\n",
    "〔プログラム〕  \n",
    "※ Pythonでは，配列（リスト）の要素番号は0から始まるので，少し変更"
   ]
  },
  {
   "cell_type": "code",
   "execution_count": 9,
   "metadata": {},
   "outputs": [],
   "source": [
    "def checkDigit(originalDigit : list) -> int:\n",
    "    j = 0\n",
    "    for i in range(len(originalDigit)):\n",
    "        j = j + originalDigit[i]\n",
    "    while j > 9:\n",
    "        k = j // 10 # 10進9桁の数の場合，jが2桁を超えることはない\n",
    "        j = k + (j - 10 * k)  # 空欄a はこの行全部\n",
    "    return j"
   ]
  },
  {
   "attachments": {},
   "cell_type": "markdown",
   "metadata": {},
   "source": [
    "### 選択肢（Pythonで変換）\n",
    "ア　j = j - 10 * k  \n",
    "イ　j = k + (j - 10 * k)  \n",
    "ウ　j = k + (j - 10) * k  \n",
    "エ　j = k + j"
   ]
  },
  {
   "cell_type": "code",
   "execution_count": 10,
   "metadata": {},
   "outputs": [
    {
     "data": {
      "text/plain": [
       "9"
      ]
     },
     "execution_count": 10,
     "metadata": {},
     "output_type": "execute_result"
    }
   ],
   "source": [
    "originalDigit = [3, 1, 4, 1, 5, 9, 2, 6, 5]\n",
    "checkDigit(originalDigit)"
   ]
  },
  {
   "cell_type": "code",
   "execution_count": null,
   "metadata": {},
   "outputs": [],
   "source": []
  }
 ],
 "metadata": {
  "kernelspec": {
   "display_name": "Python 3",
   "language": "python",
   "name": "python3"
  },
  "language_info": {
   "codemirror_mode": {
    "name": "ipython",
    "version": 3
   },
   "file_extension": ".py",
   "mimetype": "text/x-python",
   "name": "python",
   "nbconvert_exporter": "python",
   "pygments_lexer": "ipython3",
   "version": "3.11.3"
  },
  "orig_nbformat": 4
 },
 "nbformat": 4,
 "nbformat_minor": 2
}
