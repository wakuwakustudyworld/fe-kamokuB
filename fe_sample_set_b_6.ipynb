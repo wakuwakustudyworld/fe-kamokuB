{
 "cells": [
  {
   "attachments": {},
   "cell_type": "markdown",
   "metadata": {},
   "source": [
    "## 基本情報技術者試験（科目B試験）サンプル問題セット\n",
    "### 問6\n",
    "次のプログラム中の 【　　　】 に入れる正しい答えを，解答群の中から選べ。\n",
    "\n",
    "関数revは8ビット型の引数byteを受け取り，ビットの並びを逆にした値を返す。例えば，関数revをrev(01001011)として呼び出すと，戻り値は11010010となる。なお，演算子∧はビット単位の論理積，演算子∨はビット単位の論理和，演算子>>は論理右シフト，演算子<<は論理左シフトを表す。例えば，value >> nはvalueの値をnビットだけ右に論理シフトし，value << nはvalueの値をnビットだけ左に論理シフトする。\n",
    "\n",
    "〔プログラム〕"
   ]
  },
  {
   "cell_type": "code",
   "execution_count": null,
   "metadata": {},
   "outputs": [],
   "source": []
  }
 ],
 "metadata": {
  "language_info": {
   "name": "python"
  },
  "orig_nbformat": 4
 },
 "nbformat": 4,
 "nbformat_minor": 2
}
