{
 "cells": [
  {
   "attachments": {},
   "cell_type": "markdown",
   "metadata": {},
   "source": [
    "## 基本情報技術者試験（科目B試験）サンプル問題セット\n",
    "### 問6\n",
    "次のプログラム中の 【　　　】 に入れる正しい答えを，解答群の中から選べ。\n",
    "\n",
    "関数revは8ビット型の引数byteを受け取り，ビットの並びを逆にした値を返す。例えば，関数revをrev(01001011)として呼び出すと，戻り値は11010010となる。なお，演算子∧はビット単位の論理積，演算子∨はビット単位の論理和，演算子>>は論理右シフト，演算子<<は論理左シフトを表す。例えば，value >> nはvalueの値をnビットだけ右に論理シフトし，value << nはvalueの値をnビットだけ左に論理シフトする。\n",
    "\n",
    "〔プログラム〕  \n",
    "※Pythonでは8ビット型はなく，「0b」で2進数を表現，bin()関数で2進数表示"
   ]
  },
  {
   "cell_type": "code",
   "execution_count": 1,
   "metadata": {},
   "outputs": [],
   "source": [
    "def rev(byte):\n",
    "    rbyte = byte\n",
    "    r = 0b00000000\n",
    "    for i in range(1, 9):\n",
    "        r = (r << 1) | (rbyte & 0b00000001) # for文内の2行が選択肢\n",
    "        rbyte = rbyte >> 1\n",
    "    return r"
   ]
  },
  {
   "attachments": {},
   "cell_type": "markdown",
   "metadata": {},
   "source": [
    "選択肢（Pythonで変換）  \n",
    "ア　r = (r << 1) | (rbyte & 0b00000001)  \n",
    "　　rbyte = rbyte >> 1  \n",
    "イ　r = (r << 7) | (rbyte & 0b00000001)  \n",
    "　　rbyte = rbyte >> 7  \n",
    "ウ　r = (rbyte << 1) | (rbyte >> 7)  \n",
    "　　rbyte = r  \n",
    "エ　r = (rbyte >> 1) | (rbyte << 7)  \n",
    "　　rbyte = r"
   ]
  },
  {
   "cell_type": "code",
   "execution_count": 2,
   "metadata": {},
   "outputs": [
    {
     "name": "stdout",
     "output_type": "stream",
     "text": [
      "0b10100000\n"
     ]
    }
   ],
   "source": [
    "# 例\n",
    "print(bin(rev(0b00000101)))"
   ]
  },
  {
   "cell_type": "code",
   "execution_count": null,
   "metadata": {},
   "outputs": [],
   "source": []
  }
 ],
 "metadata": {
  "kernelspec": {
   "display_name": "Python 3",
   "language": "python",
   "name": "python3"
  },
  "language_info": {
   "codemirror_mode": {
    "name": "ipython",
    "version": 3
   },
   "file_extension": ".py",
   "mimetype": "text/x-python",
   "name": "python",
   "nbconvert_exporter": "python",
   "pygments_lexer": "ipython3",
   "version": "3.11.3"
  },
  "orig_nbformat": 4
 },
 "nbformat": 4,
 "nbformat_minor": 2
}
